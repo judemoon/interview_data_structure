{
 "cells": [
  {
   "cell_type": "markdown",
   "metadata": {},
   "source": [
    "# Technical Interview Practice - Python\n",
    "\n",
    "August 2017, by Jude Moon\n",
    "\n",
    "# Practice Overview\n",
    "\n",
    "For this practice, I will be given [five technical interviewing questions](https://classroom.udacity.com/nanodegrees/nd002/parts/19280355-b835-4ce4-b867-2c2e2e85d0a0/modules/07cc5d99-f81d-45df-af3b-9206dca1739d/lessons/7736707697239847/concepts/78912813390923) on a variety of topics discussed in the technical interviewing course. I will write the answers using Python code, as well as the explanations of the efficiency of the code and the design choices.\n",
    "\n",
    "***\n",
    "\n",
    "# Question 1.\n",
    "Given two strings s and t, determine whether some anagram of t is a substring of s. For example: if s = \"udacity\" and t = \"ad\", then the function returns True. Your function definition should look like: question1(s, t) and return a boolean True or False.\n",
    "\n",
    "## Understand the Question:\n",
    "A \"anagram\" means a word, phrase, or name formed by **rearranging** the letters of another, using all the original letters **once**. From the example of s = \"udacity\", the input of t = \"aad\" should return False because t uses \"a\" twice. But inputting s = \"apple\" and t = \"pp\" should return True because t uses original letters once.\n",
    "\n",
    "Some of odd cases such as empty string or null needs to be defined to return error messages.\n",
    "- return error if two arguments are not string.\n",
    "- return error if the length of the subject string (the first argument) is zero or smaller than anagramed string (the second argument). \n",
    "\n",
    "## Answer Code:"
   ]
  },
  {
   "cell_type": "code",
   "execution_count": 15,
   "metadata": {
    "collapsed": true
   },
   "outputs": [],
   "source": [
    "from time import time\n",
    "\n",
    "# helper procedure to search character list of t2 in the character list of t1 and\n",
    "# if any character of t2 list is not in the t1 list, return False\n",
    "def is_anagram(t1, t2):\n",
    "    \n",
    "    # conver all characters to lower case\n",
    "    t1 = t1.lower()\n",
    "    t2 = t2.lower()\n",
    "    \n",
    "    # convert string to list; each character of the string as element of the list\n",
    "    t1_list = list(t1)\n",
    "    t2_list = list(t2)\n",
    "    \n",
    "    # stop the loop and return False when any character of t is not shown in s\n",
    "    for char in t2_list:\n",
    "        if char not in t1_list:\n",
    "            return False\n",
    "            break\n",
    "        \n",
    "        t1_list.remove(char) # to prevent from using the same letter more than once, \n",
    "                            # remove the letter from the list\n",
    "    return True\n",
    "\n",
    "# main procedure\n",
    "def question1(s, t):\n",
    "    \n",
    "    # if s is not string, return error message\n",
    "    if type(s) != str:\n",
    "        return \"Error: The first argument is not string!\"\n",
    "\n",
    "    # if t is not string, return error message\n",
    "    if type(t) != str:\n",
    "        return \"Error: The second argument is not string!\"\n",
    "    \n",
    "    # if the number of characters of s is zero or smaller than that of t, return error message\n",
    "    if len(s) == 0 or len(s) < len(t):\n",
    "        return \"Error: The string length of the first argument needs to be greater than that of the second argument!\"\n",
    "    \n",
    "    # if t is empty string, the answer should alwasy be True\n",
    "    if len(t) == 0:\n",
    "        return True\n",
    "    \n",
    "    for i in range(len(s)):\n",
    "        for j in range(0, i):\n",
    "            substring = s[j:i + 1] # get every possible substring\n",
    "            if is_anagram(substring, t):\n",
    "                return True\n",
    "\n",
    "    \n",
    "    return False"
   ]
  },
  {
   "cell_type": "markdown",
   "metadata": {},
   "source": [
    "### Test Case 1-1:"
   ]
  },
  {
   "cell_type": "code",
   "execution_count": 23,
   "metadata": {
    "collapsed": false
   },
   "outputs": [
    {
     "data": {
      "text/plain": [
       "True"
      ]
     },
     "execution_count": 23,
     "metadata": {},
     "output_type": "execute_result"
    }
   ],
   "source": [
    "s1 = \"udacity\"\n",
    "t1 = \"ay\"\n",
    "question1(s1, t1)"
   ]
  },
  {
   "cell_type": "code",
   "execution_count": 17,
   "metadata": {
    "collapsed": false
   },
   "outputs": [
    {
     "data": {
      "text/plain": [
       "True"
      ]
     },
     "execution_count": 17,
     "metadata": {},
     "output_type": "execute_result"
    }
   ],
   "source": [
    "t2 = \"cityuda\"\n",
    "question1(s1, t2)"
   ]
  },
  {
   "cell_type": "markdown",
   "metadata": {},
   "source": [
    "### Test Case 1-2:"
   ]
  },
  {
   "cell_type": "code",
   "execution_count": 18,
   "metadata": {
    "collapsed": false
   },
   "outputs": [
    {
     "data": {
      "text/plain": [
       "True"
      ]
     },
     "execution_count": 18,
     "metadata": {},
     "output_type": "execute_result"
    }
   ],
   "source": [
    "# Empty string for anagram\n",
    "t3 = \"\"\n",
    "question1(s1, t3)"
   ]
  },
  {
   "cell_type": "code",
   "execution_count": 19,
   "metadata": {
    "collapsed": false
   },
   "outputs": [
    {
     "data": {
      "text/plain": [
       "'Error: The second argument is not string!'"
      ]
     },
     "execution_count": 19,
     "metadata": {},
     "output_type": "execute_result"
    }
   ],
   "source": [
    "# Null anagram\n",
    "t4 = None\n",
    "question1(s1, t4)"
   ]
  },
  {
   "cell_type": "markdown",
   "metadata": {},
   "source": [
    "### Test Case 1-3:"
   ]
  },
  {
   "cell_type": "code",
   "execution_count": 20,
   "metadata": {
    "collapsed": false
   },
   "outputs": [
    {
     "name": "stdout",
     "output_type": "stream",
     "text": [
      "False\n",
      "\n",
      "This took 0.00000000 seconds\n",
      "\n"
     ]
    }
   ],
   "source": [
    "start = time()\n",
    "t5 = \"uuda\"\n",
    "\n",
    "print question1(s1, t5)\n",
    "print \"\\nThis took %.8f seconds\\n\" %(time() - start)"
   ]
  },
  {
   "cell_type": "code",
   "execution_count": 21,
   "metadata": {
    "collapsed": false
   },
   "outputs": [
    {
     "name": "stdout",
     "output_type": "stream",
     "text": [
      "False\n",
      "\n",
      "This took 0.00099993 seconds\n",
      "\n"
     ]
    }
   ],
   "source": [
    "start = time()\n",
    "s2 = \"University\"\n",
    "t6 = \"universe\"\n",
    "\n",
    "print question1(s2, t6)\n",
    "print \"\\nThis took %.8f seconds\\n\" %(time() - start)"
   ]
  },
  {
   "cell_type": "code",
   "execution_count": 22,
   "metadata": {
    "collapsed": false
   },
   "outputs": [
    {
     "ename": "KeyboardInterrupt",
     "evalue": "",
     "output_type": "error",
     "traceback": [
      "\u001b[1;31m---------------------------------------------------------------------------\u001b[0m",
      "\u001b[1;31mKeyboardInterrupt\u001b[0m                         Traceback (most recent call last)",
      "\u001b[1;32m<ipython-input-22-9e7d4f996ce3>\u001b[0m in \u001b[0;36m<module>\u001b[1;34m()\u001b[0m\n\u001b[0;32m      3\u001b[0m \u001b[0mt7\u001b[0m \u001b[1;33m=\u001b[0m \u001b[1;34m\"ad\"\u001b[0m\u001b[1;33m*\u001b[0m\u001b[1;36m1000\u001b[0m\u001b[1;33m\u001b[0m\u001b[0m\n\u001b[0;32m      4\u001b[0m \u001b[1;33m\u001b[0m\u001b[0m\n\u001b[1;32m----> 5\u001b[1;33m \u001b[1;32mprint\u001b[0m \u001b[0mquestion1\u001b[0m\u001b[1;33m(\u001b[0m\u001b[0ms3\u001b[0m\u001b[1;33m,\u001b[0m \u001b[0mt7\u001b[0m\u001b[1;33m)\u001b[0m\u001b[1;33m\u001b[0m\u001b[0m\n\u001b[0m\u001b[0;32m      6\u001b[0m \u001b[1;32mprint\u001b[0m \u001b[1;34m\"\\nThis took %.8f seconds\\n\"\u001b[0m \u001b[1;33m%\u001b[0m\u001b[1;33m(\u001b[0m\u001b[0mtime\u001b[0m\u001b[1;33m(\u001b[0m\u001b[1;33m)\u001b[0m \u001b[1;33m-\u001b[0m \u001b[0mstart\u001b[0m\u001b[1;33m)\u001b[0m\u001b[1;33m\u001b[0m\u001b[0m\n",
      "\u001b[1;32m<ipython-input-15-59c34987fd8b>\u001b[0m in \u001b[0;36mquestion1\u001b[1;34m(s, t)\u001b[0m\n\u001b[0;32m     45\u001b[0m         \u001b[1;32mfor\u001b[0m \u001b[0mj\u001b[0m \u001b[1;32min\u001b[0m \u001b[0mrange\u001b[0m\u001b[1;33m(\u001b[0m\u001b[1;36m0\u001b[0m\u001b[1;33m,\u001b[0m \u001b[0mi\u001b[0m\u001b[1;33m)\u001b[0m\u001b[1;33m:\u001b[0m\u001b[1;33m\u001b[0m\u001b[0m\n\u001b[0;32m     46\u001b[0m             \u001b[0msubstring\u001b[0m \u001b[1;33m=\u001b[0m \u001b[0ms\u001b[0m\u001b[1;33m[\u001b[0m\u001b[0mj\u001b[0m\u001b[1;33m:\u001b[0m\u001b[0mi\u001b[0m \u001b[1;33m+\u001b[0m \u001b[1;36m1\u001b[0m\u001b[1;33m]\u001b[0m \u001b[1;31m# get every possible substring\u001b[0m\u001b[1;33m\u001b[0m\u001b[0m\n\u001b[1;32m---> 47\u001b[1;33m             \u001b[1;32mif\u001b[0m \u001b[0mis_anagram\u001b[0m\u001b[1;33m(\u001b[0m\u001b[0msubstring\u001b[0m\u001b[1;33m,\u001b[0m \u001b[0mt\u001b[0m\u001b[1;33m)\u001b[0m\u001b[1;33m:\u001b[0m\u001b[1;33m\u001b[0m\u001b[0m\n\u001b[0m\u001b[0;32m     48\u001b[0m                 \u001b[1;32mreturn\u001b[0m \u001b[0mTrue\u001b[0m\u001b[1;33m\u001b[0m\u001b[0m\n\u001b[0;32m     49\u001b[0m \u001b[1;33m\u001b[0m\u001b[0m\n",
      "\u001b[1;32m<ipython-input-15-59c34987fd8b>\u001b[0m in \u001b[0;36mis_anagram\u001b[1;34m(t1, t2)\u001b[0m\n\u001b[0;32m     19\u001b[0m             \u001b[1;32mbreak\u001b[0m\u001b[1;33m\u001b[0m\u001b[0m\n\u001b[0;32m     20\u001b[0m \u001b[1;33m\u001b[0m\u001b[0m\n\u001b[1;32m---> 21\u001b[1;33m         \u001b[0mt1_list\u001b[0m\u001b[1;33m.\u001b[0m\u001b[0mremove\u001b[0m\u001b[1;33m(\u001b[0m\u001b[0mchar\u001b[0m\u001b[1;33m)\u001b[0m \u001b[1;31m# to prevent from using the same letter more than once,\u001b[0m\u001b[1;33m\u001b[0m\u001b[0m\n\u001b[0m\u001b[0;32m     22\u001b[0m                             \u001b[1;31m# remove the letter from the list\u001b[0m\u001b[1;33m\u001b[0m\u001b[1;33m\u001b[0m\u001b[0m\n\u001b[0;32m     23\u001b[0m     \u001b[1;32mreturn\u001b[0m \u001b[0mTrue\u001b[0m\u001b[1;33m\u001b[0m\u001b[0m\n",
      "\u001b[1;31mKeyboardInterrupt\u001b[0m: "
     ]
    }
   ],
   "source": [
    "start = time()\n",
    "s3 = \"udacity\"*1000\n",
    "t7 = \"ad\"*1000\n",
    "\n",
    "print question1(s3, t7)\n",
    "print \"\\nThis took %.8f seconds\\n\" %(time() - start)"
   ]
  },
  {
   "cell_type": "markdown",
   "metadata": {},
   "source": [
    "## Explanation:\n",
    "My choice of the data structure to solve this question is list, which was treated as indexed array. \n",
    "### Space complexity:\n",
    "1. for some odd cases, the main procedure returns error message. It does not need to go through the rest of codes; O(1)\n",
    "2. 'is_anagram' procedure creates 's_list' and 't_list'. s_list takes space of the length (S) of 's' and 't_list' takes space of the length (T) of 't';O(S) + O(T)\n",
    "\n",
    "Overall, the space complexity of the worst case would be O(S+T).\n",
    "\n",
    "### Time efficiency:\n",
    "1. the main procedure does not have any iteration; O(1)\n",
    "2. \"is_anagram\" procedure has array.lower function, list(array) function, and for-loop. The functions would rely on the input lengths (S and T). The two functions take O(S) time and O(T) time of each and the for-loop takes O(T) time; O(2S) + O(3T)\n",
    "\n",
    "Overall procedure would take O(2S+3T) time. But, after dropping constants, the time complexity of the worst case would be O(S+T).\n",
    "***\n",
    "\n",
    "# Question 2.\n",
    "Given a string a, find the longest palindromic substring contained in a. Your function definition should look like question2(a), and return a string.\n",
    "\n",
    "\n",
    "## Understand the Question:\n",
    "\n",
    "[A palindrome](https://en.wikipedia.org/wiki/Palindrome) is a word, phrase, number, or other sequence of characters which reads the same backward as forward, such as madam or racecar. And the question is to answer longest palindromic substring. For example, the procedure with the input of 'ababa' will return 'ababa', not 'aba'.\n",
    "\n",
    "Some of odd cases such as empty string or null needs to be defined.\n",
    "- return the original input if the length of the string is zero or smaller than 2. \n",
    "- return error if the argument is not string.\n",
    "\n",
    "## Answer Code:"
   ]
  },
  {
   "cell_type": "code",
   "execution_count": 9,
   "metadata": {
    "collapsed": true
   },
   "outputs": [],
   "source": [
    "# helper procedure to find palindroms by looking at all of \n",
    "# possible substrings and checking them individually\n",
    "def longest_palindrome(a):\n",
    "    \n",
    "    a = a.lower() # conver all characters to lower case\n",
    "    \n",
    "    longest = \"\"\n",
    "    for i in range(len(a)):\n",
    "        for j in range(0, i):\n",
    "            substring = a[j:i + 1] # get every possible substring\n",
    "            if substring == substring[::-1]: # [::-1] sorts elements reversely\n",
    "                if len(substring) > len(longest):\n",
    "                    longest = substring\n",
    "    \n",
    "    if longest:\n",
    "        return longest\n",
    "    \n",
    "    return None # if there is no palindrome, return None\n",
    "\n",
    "\n",
    "# main procedure\n",
    "def question2(a):\n",
    "    # if a is not string, return error message\n",
    "    if type(a) != str:\n",
    "        return \"Error: a is not string!\"\n",
    "    \n",
    "    # if the length of a is zero or smaller than 2, return a as it is\n",
    "    if len(a) < 2:\n",
    "        return a\n",
    "    \n",
    "    return longest_palindrome(a)\n",
    "        "
   ]
  },
  {
   "cell_type": "markdown",
   "metadata": {},
   "source": [
    "### Test Case 2-1:"
   ]
  },
  {
   "cell_type": "code",
   "execution_count": 10,
   "metadata": {
    "collapsed": false
   },
   "outputs": [
    {
     "data": {
      "text/plain": [
       "'abcbabcba'"
      ]
     },
     "execution_count": 10,
     "metadata": {},
     "output_type": "execute_result"
    }
   ],
   "source": [
    "question2('ABCBAbcba')"
   ]
  },
  {
   "cell_type": "code",
   "execution_count": 11,
   "metadata": {
    "collapsed": false
   },
   "outputs": [
    {
     "data": {
      "text/plain": [
       "'ai4ojajo4ia'"
      ]
     },
     "execution_count": 11,
     "metadata": {},
     "output_type": "execute_result"
    }
   ],
   "source": [
    "question2(\"AbcbaI4ojajo4iaj8aoa8jA\")"
   ]
  },
  {
   "cell_type": "markdown",
   "metadata": {},
   "source": [
    "### Test Case 2-2:"
   ]
  },
  {
   "cell_type": "code",
   "execution_count": 12,
   "metadata": {
    "collapsed": false
   },
   "outputs": [
    {
     "data": {
      "text/plain": [
       "'Error: a is not string!'"
      ]
     },
     "execution_count": 12,
     "metadata": {},
     "output_type": "execute_result"
    }
   ],
   "source": [
    "# Null string case\n",
    "question2(None)"
   ]
  },
  {
   "cell_type": "code",
   "execution_count": 13,
   "metadata": {
    "collapsed": false
   },
   "outputs": [
    {
     "data": {
      "text/plain": [
       "''"
      ]
     },
     "execution_count": 13,
     "metadata": {},
     "output_type": "execute_result"
    }
   ],
   "source": [
    "# Empty string case\n",
    "question2(\"\")"
   ]
  },
  {
   "cell_type": "code",
   "execution_count": 14,
   "metadata": {
    "collapsed": false
   },
   "outputs": [
    {
     "data": {
      "text/plain": [
       "'a'"
      ]
     },
     "execution_count": 14,
     "metadata": {},
     "output_type": "execute_result"
    }
   ],
   "source": [
    "# One letter string case\n",
    "question2(\"a\")"
   ]
  },
  {
   "cell_type": "markdown",
   "metadata": {},
   "source": [
    "### Test Case 2-3:"
   ]
  },
  {
   "cell_type": "code",
   "execution_count": 15,
   "metadata": {
    "collapsed": false
   },
   "outputs": [
    {
     "name": "stdout",
     "output_type": "stream",
     "text": [
      "None\n",
      "\n",
      "This took 0.00000000 seconds\n",
      "\n"
     ]
    }
   ],
   "source": [
    "start = time()\n",
    "a1 = \"udacity\"\n",
    "print question2(a1)\n",
    "print \"\\nThis took %.8f seconds\\n\" %(time() - start)"
   ]
  },
  {
   "cell_type": "code",
   "execution_count": 16,
   "metadata": {
    "collapsed": false
   },
   "outputs": [
    {
     "name": "stdout",
     "output_type": "stream",
     "text": [
      "aaaaa\n",
      "\n",
      "This took 0.00099993 seconds\n",
      "\n"
     ]
    }
   ],
   "source": [
    "start = time()\n",
    "a2 = \"udaaaaacity\"\n",
    "print question2(a2)\n",
    "print \"\\nThis took %.8f seconds\\n\" %(time() - start)"
   ]
  },
  {
   "cell_type": "code",
   "execution_count": 17,
   "metadata": {
    "collapsed": false
   },
   "outputs": [
    {
     "name": "stdout",
     "output_type": "stream",
     "text": [
      "aaaaa\n",
      "\n",
      "This took 229.60400009 seconds\n",
      "\n"
     ]
    }
   ],
   "source": [
    "start = time()\n",
    "print question2(a2*1000)\n",
    "print \"\\nThis took %.8f seconds\\n\" %(time() - start)"
   ]
  },
  {
   "cell_type": "markdown",
   "metadata": {},
   "source": [
    "## Explanation:\n",
    "\n",
    "My choice of the data structure to solve this question was string, which was treated as indexed array. The input string was manipulated using index system to create sub-string and sort reversely. \n",
    "\n",
    "### Space complexity:\n",
    "1. for some odd cases, the main procedure returns error message. It does not need to go through the rest of codes; O(1)\n",
    "2. 'longest_palindrome' procedure creates 'longest' and 'substring', which both take space of the length (A) of 'a'; O(2A)\n",
    "\n",
    "Overall procedure would take O(2A) space. But after dropping constant, the space complexity of the worst case would be O(A).\n",
    "\n",
    "### Time efficiency:\n",
    "1. the main procedure does not have any iteration, but creates one output; O(1)\n",
    "2. \"longest_palindrome\" procedure has array.lower function and two for-loops. The function takes O(A) time and the for-loops take O(A<sup>2</sup>) time.\n",
    "\n",
    "Overall procedure would take O(A<sup>2</sup> + A) time. But after dropping non-dominate term, the time complexity of the worst case would be O(A<sup>2</sup>).\n",
    "\n",
    "***\n",
    "\n",
    "# Question 3.\n",
    "Given an undirected graph G, find the minimum spanning tree within G. A minimum spanning tree connects all vertices in a graph with the smallest possible total weight of edges. Your function should take in and return an adjacency list structured like this:\n",
    "\n",
    ">{'A': [('B', 2)],\n",
    "\n",
    "> 'B': [('A', 2), ('C', 5)], \n",
    "\n",
    "> 'C': [('B', 5)]}\n",
    " \n",
    "Vertices are represented as unique strings. The function definition should be question3(G)\n",
    "\n",
    "## Understand the Question:\n",
    "\n",
    "[A minimum spanning tree (MST)](https://en.wikipedia.org/wiki/Minimum_spanning_tree) or minimum weight spanning tree is a subset of the edges of a connected, edge-weighted undirected graph that connects all the vertices together, without any cycles and with the minimum possible total edge weight.\n",
    "\n",
    "Kruskal Algorithm builds the spanning tree by adding edges one by one into a growing spanning tree. \n",
    "\n",
    "Pseudocode\n",
    "\n",
    "KRUSKAL(G):\n",
    "1. A = ∅\n",
    "2. foreach v ∈ G.V:\n",
    "3.    MAKE-SET(v)\n",
    "4. foreach (u, v) in G.E ordered by weight(u, v), increasing:\n",
    "5.    if FIND-SET(u) ≠ FIND-SET(v):\n",
    "6.       A = A ∪ {(u, v)}\n",
    "7.       UNION(u, v)\n",
    "8. return A\n",
    "\n",
    "Some of odd cases such as empty dictionary or null needs to be defined.\n",
    "- return the original input if the length of the string is zero or smaller than 2. \n",
    "- return error if the argument is not dictionary.\n",
    "\n",
    "\n",
    "## Answer Code:"
   ]
  },
  {
   "cell_type": "code",
   "execution_count": 18,
   "metadata": {
    "collapsed": true
   },
   "outputs": [],
   "source": [
    "# declare global variables 'parent' and 'rank' which are used in all procedures\n",
    "# parent stores a root of each node and will be updated when unified two disjoint sets\n",
    "# rank is used to compare the number of nodes in two disjoint sets \n",
    "parent = {}\n",
    "rank = {}\n",
    "\n",
    "# helper procedure to find the root node which this vertex belongs, \n",
    "# using recursive definition; \n",
    "# base case is parent[vertex] == vertex, where itself is the root\n",
    "# recursive case is parent[vertex] != vertex\n",
    "def find_root(vertex):\n",
    "    if parent[vertex] != vertex:  \n",
    "        parent[vertex] = find_root(parent[vertex])\n",
    "    return parent[vertex]\n",
    "\n",
    "# helper procedure to unify the sets by comparing their root nodes and rank \n",
    "def union(vertex1, vertex2):\n",
    "    root1 = find_root(vertex1)\n",
    "    root2 = find_root(vertex2)\n",
    "    if rank[root1] > rank[root2]:\n",
    "        parent[root2] = root1\n",
    "    else:\n",
    "        parent[root1] = root2\n",
    "        if rank[root1] == rank[root2]: \n",
    "            rank[root2] += 1\n",
    "\n",
    "# main procedure\n",
    "def question3(G):\n",
    "    \n",
    "    # if G is not dictionary, return error message\n",
    "    if type(G) != dict:\n",
    "        return \"Error: G is not dictionary!\"\n",
    "    \n",
    "    # if the length of G is zero or smaller than 2, return G as it is\n",
    "    if len(G) < 2:\n",
    "        return G\n",
    "    \n",
    "    ### perform kruskal algorithm to find MST ###\n",
    "    \n",
    "    # step1: initialize disjoint sets  \n",
    "    vertices = G.keys() # collect vertices\n",
    "    for vertex in vertices:\n",
    "        parent[vertex] = vertex # the parent value of the key is set to itself\n",
    "        rank[vertex] = 0 # the rank value is set to 0, meaning 0 union occurrence\n",
    "    \n",
    "        \n",
    "    # step2: get list of unique edges\n",
    "    # each edge consists of 3 element-tuple, (vertex1, vertex2, edge_weight)\n",
    "    # vertex1 is always alphabetically earlier than vertex2\n",
    "    edges = []\n",
    "    for vertex in vertices:\n",
    "        for connections in G[vertex]:\n",
    "            if vertex < connections[0]:\n",
    "                edges.append((vertex, connections[0], connections[1]))\n",
    "                \n",
    "    # step3: sort edges by increasing edge_weight\n",
    "    edges = sorted(edges, key=lambda x : x[2])\n",
    "    \n",
    "    # step4: find and compare roots of vertex1 and vertex2,\n",
    "    # and if the roots are different, unify disjoint sets containing vertex1 and vertex2,\n",
    "    # update rank of the roots, and then add the edge to MST set\n",
    "    MST = set() # a set is an unordered collection with no duplicate elements\n",
    "    for edge in edges:\n",
    "        if find_root(edge[0]) != find_root(edge[1]): \n",
    "            union(edge[0], edge[1])\n",
    "            MST.add(edge)\n",
    "    \n",
    "    # MST set into the dictionary of adjacency list\n",
    "    output = {}\n",
    "    for node in MST:\n",
    "        if  node[0] in output:\n",
    "            output[node[0]].append((node[1], node[2]))\n",
    "        else:\n",
    "            output[node[0]] = [(node[1], node[2])]\n",
    "        if node[1] in output:\n",
    "            output[node[1]].append((node[0], node[2]))\n",
    "        else:\n",
    "            output[node[1]] = [(node[0], node[2])]\n",
    "            \n",
    "    return output"
   ]
  },
  {
   "cell_type": "markdown",
   "metadata": {},
   "source": [
    "### Test Case 3-1:"
   ]
  },
  {
   "cell_type": "code",
   "execution_count": 19,
   "metadata": {
    "collapsed": false
   },
   "outputs": [
    {
     "data": {
      "text/plain": [
       "{'A': [('B', 2)], 'B': [('A', 2), ('C', 5)], 'C': [('B', 5)]}"
      ]
     },
     "execution_count": 19,
     "metadata": {},
     "output_type": "execute_result"
    }
   ],
   "source": [
    "G1 = {'A': [('B', 2)],\n",
    "      'B': [('A', 2), ('C', 5)], \n",
    "      'C': [('B', 5)]}\n",
    "\n",
    "question3(G1) "
   ]
  },
  {
   "cell_type": "markdown",
   "metadata": {},
   "source": [
    "### Test Case 3-2:"
   ]
  },
  {
   "cell_type": "code",
   "execution_count": 20,
   "metadata": {
    "collapsed": false
   },
   "outputs": [
    {
     "data": {
      "text/plain": [
       "'Error: G is not dictionary!'"
      ]
     },
     "execution_count": 20,
     "metadata": {},
     "output_type": "execute_result"
    }
   ],
   "source": [
    "# Null dictionary case\n",
    "G3 = None\n",
    "question3(G3)"
   ]
  },
  {
   "cell_type": "code",
   "execution_count": 21,
   "metadata": {
    "collapsed": false
   },
   "outputs": [
    {
     "data": {
      "text/plain": [
       "{}"
      ]
     },
     "execution_count": 21,
     "metadata": {},
     "output_type": "execute_result"
    }
   ],
   "source": [
    "# Empty dictionary case\n",
    "G4 = {}\n",
    "question3(G4) # expect {}"
   ]
  },
  {
   "cell_type": "code",
   "execution_count": 22,
   "metadata": {
    "collapsed": false
   },
   "outputs": [
    {
     "data": {
      "text/plain": [
       "{'A': ['A', 2]}"
      ]
     },
     "execution_count": 22,
     "metadata": {},
     "output_type": "execute_result"
    }
   ],
   "source": [
    "# One node dictionary case\n",
    "G5 = {'A': ['A', 2]}\n",
    "question3(G5) # expect {}"
   ]
  },
  {
   "cell_type": "markdown",
   "metadata": {},
   "source": [
    "### Test Case 3-3:"
   ]
  },
  {
   "cell_type": "code",
   "execution_count": 23,
   "metadata": {
    "collapsed": false
   },
   "outputs": [
    {
     "name": "stdout",
     "output_type": "stream",
     "text": [
      "{'A': [('B', 1)],\n",
      " 'B': [('C', 5), ('D', 3), ('A', 1)],\n",
      " 'C': [('B', 5)],\n",
      " 'D': [('E', 2), ('B', 3)],\n",
      " 'E': [('D', 2)]}\n",
      "\n",
      "This took 0.00199986 seconds\n",
      "\n"
     ]
    }
   ],
   "source": [
    "import pprint\n",
    "start = time()\n",
    "G2 = {'A': [('B', 1), ('C', 7)],\n",
    "     'B': [('A', 1), ('C', 5), ('D', 3), ('E', 4)],\n",
    "     'C': [('A', 7), ('B', 5), ('D', 6)],\n",
    "     'D': [('B', 3), ('C', 6), ('E', 2)],\n",
    "     'E': [('B', 4), ('D', 2)]}\n",
    "\n",
    "pprint.pprint(question3(G2))\n",
    "print \"\\nThis took %.8f seconds\\n\" %(time() - start)"
   ]
  },
  {
   "cell_type": "code",
   "execution_count": 24,
   "metadata": {
    "collapsed": false
   },
   "outputs": [
    {
     "name": "stdout",
     "output_type": "stream",
     "text": [
      "{'A': [('D', 5), ('B', 7)],\n",
      " 'B': [('E', 7), ('A', 7)],\n",
      " 'C': [('E', 5)],\n",
      " 'D': [('A', 5), ('F', 6)],\n",
      " 'E': [('B', 7), ('G', 9), ('C', 5)],\n",
      " 'F': [('D', 6)],\n",
      " 'G': [('E', 9)]}\n",
      "\n",
      "This took 0.00199986 seconds\n",
      "\n"
     ]
    }
   ],
   "source": [
    "start = time()\n",
    "G6 = {'A': [('B', 7), ('D', 5)],\n",
    "      'B': [('A', 7), ('C', 8), ('D', 9), ('E', 7)],\n",
    "      'C': [('B', 8), ('E', 5)],\n",
    "      'D': [('A', 5), ('B', 9), ('E', 15), ('F', 6)],\n",
    "      'E': [('B', 7), ('C', 5), ('D', 15), ('F', 8), ('G', 9)],\n",
    "      'F': [('D', 6), ('E', 8), ('G', 11)],\n",
    "      'G': [('E', 9), ('F', 11)]}\n",
    "\n",
    "pprint.pprint(question3(G6)) \n",
    "print \"\\nThis took %.8f seconds\\n\" %(time() - start)"
   ]
  },
  {
   "cell_type": "markdown",
   "metadata": {},
   "source": [
    "## Explanation:\n",
    "\n",
    "My choices of the data structure to solve this question were dictionaries and lists, which were treated as indexed array. \n",
    "\n",
    "graph (G) has V number of vertices and E number of edges\n",
    "\n",
    "### Space complexity:\n",
    "1. two global dictionaries are created; O(2)\n",
    "2. for some odd cases, it returns error message. It does not need to go through the rest of codes; O(1)\n",
    "3. for other cases, the main procedure creates three lists including 'vertices', 'edges', and 'MST', and one dictionary 'output'. \n",
    "    - 'vertices'; O(V)\n",
    "    - 'edges'; O(E)\n",
    "    - 'MST'; O(E)\n",
    "    - 'output'; O(V)*O(E)\n",
    "4. step1 in the main procedure creates elements for 'parent' and 'rank' lists; O(2V)\n",
    "5. 'find_root' and 'union' procedures do not create new variables.\n",
    "\n",
    "Overall procedure would take O(V\\*E + 3V + 2E) space. But after dropping constants, the space complexity of the worst case would be O(V\\*E + V + E).\n",
    "\n",
    "### Time efficiency:\n",
    "1. the main procedure has dictionary.keys() function, sorted(array) function, three single for-loops and one double for-loops. \n",
    "    - dictionary.keys() function; O(V)\n",
    "    - sorted(array) function; O(E)\n",
    "    - 1st for-loop; O(V)\n",
    "    - double for-loops; O(V<sup>2</sup>)\n",
    "    - 2nd for-loop; O(E)\n",
    "    - 3rd for-loop; length of 'MST' which is related to O(E)\n",
    "2. 'find_root' and 'union' procedures do not include iterations.\n",
    "\n",
    "Overall procedure would take O(V<sup>2</sup> + 2V + 3E) time. But after dropping non-dominate terms and constants, the time complexity of the worst case would be O(V<sup>2</sup> + E).\n",
    "\n",
    "***\n",
    "\n",
    "# Question 4.\n",
    "Find the least common ancestor between two nodes on a binary search tree. The least common ancestor is the farthest node from the root that is an ancestor of both nodes. For example, the root is a common ancestor of all nodes on the tree, but if both nodes are descendents of the root's left child, then that left child might be the lowest common ancestor. You can assume that both nodes are in the tree, and the tree itself adheres to all BST properties. The function definition should look like question4(T, r, n1, n2), where T is the tree represented as a matrix, where the index of the list is equal to the integer stored in that node and a 1 represents a child node, r is a non-negative integer representing the root, and n1 and n2 are non-negative integers representing the two nodes in no particular order. For example, one test case might be\n",
    "\n",
    ">question4(\n",
    "\n",
    ">           [[0, 1, 0, 0, 0],\n",
    "\n",
    ">           [0, 0, 0, 0, 0],\n",
    "\n",
    ">           [0, 0, 0, 0, 0],\n",
    "\n",
    ">           [1, 0, 0, 0, 1],\n",
    "\n",
    ">           [0, 0, 0, 0, 0]],\n",
    "\n",
    ">           3, 1, 4)\n",
    "\n",
    "and the answer would be 3.\n",
    "\n",
    "## Understand the Question:\n",
    "\n",
    "Binary tree is a tree data structure in which each node has at most two children, which are referred to as the left child and the right child. [Binary search tree (BST)](https://en.wikipedia.org/wiki/Binary_search_tree) is a type of binary tree with the property of that the key of every node on the right subtree has to be larger than the key of the current node and the key of every node on the left subtree has to be smaller than the key of the current node. The tree of the example given in the question would look something like this: \n",
    "\n",
    "\n",
    "![image](Capture2.JPG)\n",
    "\n",
    "Notice that the nodes on the left subtree are '0' and '1' which is smaller than the root key '3' and the node on the right is '4', which is greater than the root key.\n",
    "\n",
    "Steps for  the solution:\n",
    "1. get a list of parents for each node; a parent list for n1 and a parent list for n2.\n",
    "2. compare and find common elements between two lists.\n",
    "\n",
    "Some of odd cases such as empty list or null needs to be defined. \n",
    "- return error if the T argument is not list or null.\n",
    "- return error if the T argument is not 2D array with row length = col length.\n",
    "- return error if the r, n1, and n2 arguments are not positive integers.\n",
    "- return error if the r, n1, and n2 arguments are not tree (T).\n",
    "- return error if the n1 and n2 arguments are the root (r) of tree (T).\n",
    "\n",
    "\n",
    "## Answer Code:"
   ]
  },
  {
   "cell_type": "code",
   "execution_count": 25,
   "metadata": {
    "collapsed": true
   },
   "outputs": [],
   "source": [
    "import numpy as np\n",
    "\n",
    "# helper procedure to get a immediate parent\n",
    "def get_parent(tree, child):\n",
    "    for i in range(len(tree)):\n",
    "        if tree[:, child][i] == 1: # to access elements, use tree[row, col]\n",
    "            return i # i is a parent of the child\n",
    "\n",
    "# helper procedure to get a list of all parents including itself\n",
    "def get_history(tree, root, child):\n",
    "    history = [child] \n",
    "    while (child != root): \n",
    "        parent = get_parent(tree, child)\n",
    "        history.append(parent) # collect parents each iteration\n",
    "        child = parent # parent becomes child for the nex iteration\n",
    "    return history\n",
    "\n",
    "# helper procedure to get the first appeared common element from two lists\n",
    "def common_ancestor(n1_parents, n2_parents):\n",
    "    for n1_parent in n1_parents:\n",
    "        for n2_parent in n2_parents:\n",
    "            if n1_parent == n2_parent:\n",
    "                return n2_parent \n",
    "\n",
    "# main procedure\n",
    "def question4(T, r, n1, n2):\n",
    "    \n",
    "    # if T is not list, return error message\n",
    "    if type(T) != list:\n",
    "        return \"Error: T is not list!\"\n",
    "    \n",
    "    # if T is not 2D array with same lengths of row and column, return error message\n",
    "    if len(np.shape(T)) != 2 or np.shape(T)[0] != np.shape(T)[1]:\n",
    "        return \"Error: T is not 2D array with len(row) = len(col)!\"\n",
    "    \n",
    "    # if r, n1 and n2 are not positive integers, return error message\n",
    "    if type(r) != int or r < 0:\n",
    "        return \"Error: r is not positive integer!\"\n",
    "    if type(n1) != int or n1 < 0:\n",
    "        return \"Error: n1 is not positive integer!\"\n",
    "    if type(n2) != int or n2 < 0:\n",
    "        return \"Error: n2 is not positive integer!\"\n",
    "    \n",
    "    # if r, n1 and n2 are not nodes in the tree, return error message\n",
    "    if r >= len(T):\n",
    "        return \"Error: r is not in the tree!\"\n",
    "    if n1 >= len(T):\n",
    "        return \"Error: n1 is not in the tree!\"\n",
    "    if n2 >= len(T):\n",
    "        return \"Error: n2 is not in the tree!\"\n",
    "    \n",
    "    # if n1 and n2 are r, return error message\n",
    "    if n1 == r:\n",
    "        return \"Error: n1 cannot be r!\"\n",
    "    if n2 == r:\n",
    "        return \"Error: n2 cannot be r!\"\n",
    "    \n",
    "    # covert T from list to numpy array to access col and row using tuple\n",
    "    T = np.array(T)\n",
    "    \n",
    "    return common_ancestor(get_history(T, r, n1), get_history(T, r, n2)) "
   ]
  },
  {
   "cell_type": "markdown",
   "metadata": {},
   "source": [
    "### Test Case 4-1:"
   ]
  },
  {
   "cell_type": "code",
   "execution_count": 26,
   "metadata": {
    "collapsed": false
   },
   "outputs": [
    {
     "data": {
      "text/plain": [
       "3"
      ]
     },
     "execution_count": 26,
     "metadata": {},
     "output_type": "execute_result"
    }
   ],
   "source": [
    "T1 = [[0, 1, 0, 0, 0],\n",
    "     [0, 0, 0, 0, 0],\n",
    "     [0, 0, 0, 0, 0],\n",
    "     [1, 0, 0, 0, 1],\n",
    "     [0, 0, 0, 0, 0]]\n",
    "\n",
    "question4(T1, 3, 1, 4)"
   ]
  },
  {
   "cell_type": "code",
   "execution_count": 27,
   "metadata": {
    "collapsed": false
   },
   "outputs": [
    {
     "data": {
      "text/plain": [
       "0"
      ]
     },
     "execution_count": 27,
     "metadata": {},
     "output_type": "execute_result"
    }
   ],
   "source": [
    "question4(T1, 3, 1, 0)"
   ]
  },
  {
   "cell_type": "markdown",
   "metadata": {},
   "source": [
    "### Test Case 4-2:"
   ]
  },
  {
   "cell_type": "code",
   "execution_count": 28,
   "metadata": {
    "collapsed": false
   },
   "outputs": [
    {
     "data": {
      "text/plain": [
       "'Error: T is not list!'"
      ]
     },
     "execution_count": 28,
     "metadata": {},
     "output_type": "execute_result"
    }
   ],
   "source": [
    "# Null tree case\n",
    "question4(None, 3, 1, 0)"
   ]
  },
  {
   "cell_type": "code",
   "execution_count": 29,
   "metadata": {
    "collapsed": false
   },
   "outputs": [
    {
     "data": {
      "text/plain": [
       "'Error: T is not 2D array with len(row) = len(col)!'"
      ]
     },
     "execution_count": 29,
     "metadata": {},
     "output_type": "execute_result"
    }
   ],
   "source": [
    "# Enmpty list tree case\n",
    "question4([[]], 3, 1, 0)"
   ]
  },
  {
   "cell_type": "code",
   "execution_count": 30,
   "metadata": {
    "collapsed": false
   },
   "outputs": [
    {
     "data": {
      "text/plain": [
       "'Error: T is not 2D array with len(row) = len(col)!'"
      ]
     },
     "execution_count": 30,
     "metadata": {},
     "output_type": "execute_result"
    }
   ],
   "source": [
    "# Tree with different col length and row length\n",
    "T2 = [[0, 1, 0, 0, 0],\n",
    "      [0, 0, 0, 0, 0],\n",
    "      [0, 0, 0, 0, 0],\n",
    "      [1, 0, 0, 0, 1]]\n",
    "\n",
    "question4(T2, 3, 1, 4)"
   ]
  },
  {
   "cell_type": "code",
   "execution_count": 33,
   "metadata": {
    "collapsed": false
   },
   "outputs": [
    {
     "data": {
      "text/plain": [
       "'Error: n1 is not positive integer!'"
      ]
     },
     "execution_count": 33,
     "metadata": {},
     "output_type": "execute_result"
    }
   ],
   "source": [
    "# Negative integer for node index\n",
    "question4(T1, 3, -1, -1)"
   ]
  },
  {
   "cell_type": "code",
   "execution_count": 34,
   "metadata": {
    "collapsed": false
   },
   "outputs": [
    {
     "data": {
      "text/plain": [
       "'Error: n2 is not in the tree!'"
      ]
     },
     "execution_count": 34,
     "metadata": {},
     "output_type": "execute_result"
    }
   ],
   "source": [
    "# Node index is not in the tree\n",
    "question4(T1, 3, 1, 10)"
   ]
  },
  {
   "cell_type": "code",
   "execution_count": 35,
   "metadata": {
    "collapsed": false
   },
   "outputs": [
    {
     "data": {
      "text/plain": [
       "'Error: n1 cannot be r!'"
      ]
     },
     "execution_count": 35,
     "metadata": {},
     "output_type": "execute_result"
    }
   ],
   "source": [
    "# Node index is same as root\n",
    "question4(T1, 3, 3, 4)"
   ]
  },
  {
   "cell_type": "markdown",
   "metadata": {},
   "source": [
    "### Test Case 4-3:\n",
    "\n",
    "![image](Capture3.JPG)"
   ]
  },
  {
   "cell_type": "code",
   "execution_count": 36,
   "metadata": {
    "collapsed": false
   },
   "outputs": [
    {
     "name": "stdout",
     "output_type": "stream",
     "text": [
      "1\n",
      "\n",
      "This took 0.00099993 seconds\n",
      "\n"
     ]
    }
   ],
   "source": [
    "start = time()\n",
    "T3 = [[0, 0, 0, 0, 0, 0, 0],\n",
    "      [1, 0, 0, 1, 0, 0, 0],\n",
    "      [0, 0, 0, 0, 0, 0, 0],\n",
    "      [0, 0, 1, 0, 1, 0, 0],\n",
    "      [0, 0, 0, 0, 0, 0, 0],\n",
    "      [0, 1, 0, 0, 0, 0, 1],\n",
    "      [0, 0, 0, 0, 0, 0, 0]]\n",
    "\n",
    "print question4(T3, 5, 0, 4)\n",
    "print \"\\nThis took %.8f seconds\\n\" %(time() - start)"
   ]
  },
  {
   "cell_type": "markdown",
   "metadata": {},
   "source": [
    "## Explanation:\n",
    "\n",
    "My choices of the data structure to solve this question were 1D and 2D list, which were treated as indexed array. \n",
    "\n",
    "### Space complexity:\n",
    "1. for some odd cases, it returns error message. It does not need to go through the rest of codes; O(1)\n",
    "3. 'get_history' procedure creates and returns 'history' list, which takes space of the length (T) of children or tree; O(T)\n",
    "4. in 'get_parent' procedure, it returns 'i'; O(1)\n",
    "5. in 'common_ancestor' procedure, it returns 'n2_parent'; O(1)\n",
    "\n",
    "The constant space would not change with the input size, so the space complexity would only take account of 'get_history' procedure. In the main procedure, it creates two lists by using 'get_history'. Overall procedure would take O(2T) space. But after dropping constant, the space complexity of the worst case would be O(T)\n",
    "\n",
    "### Time efficiency:\n",
    "1. the main procedure does not have any iteration, but creates one output; O(1)\n",
    "2. 'get_history' procedure contains one while-loop which takes O(T) time\n",
    "3. 'get_parent' procedure contains one for-loop which takes O(T) time\n",
    "4. 'common_ancestor' procedure contains double for-loops, which take O(T<sup>2</sup>) time\n",
    "\n",
    "Overall procedure would take O(T<sup>2</sup> + 2T) time. But after dropping non-dominate term, the time complexity of the worst case would be O(T<sup>2</sup>).\n",
    "\n",
    "***\n",
    "\n",
    "# Question 5.\n",
    "Find the element in a singly linked list that's m elements from the end. For example, if a linked list has 5 elements, the 3rd element from the end is the 3rd element. The function definition should look like question5(ll, m), where ll is the first node of a linked list and m is the \"mth number from the end\". You should copy/paste the Node class below to use as a representation of a node in the linked list. Return the value of the node at that position.\n",
    "\n",
    ">class Node(object):\n",
    "\n",
    ">  def __init__(self, data):\n",
    "\n",
    ">    self.data = data\n",
    "\n",
    ">    self.next = None\n",
    "    \n",
    "    \n",
    "## Understand the Question:\n",
    "\n",
    "[A linked list](https://www.cs.cmu.edu/~adamchik/15-121/lectures/Linked%20Lists/linked%20lists.html) is a linear data structure where each element is a separate object. Each element (or node) of a list is comprising of two items - the data and a reference to the next node. The last node has a reference to null. The entry point into a linked list is called the head of the list.\n",
    "\n",
    "Some of odd cases such as empty list or null needs to be defined. \n",
    "- return error if the ll argument is not Node.\n",
    "- return error if the m argument is not a positive integer.\n",
    "- return error if the m argument is greater than the total nodes.\n",
    "\n",
    "## Answer Code:"
   ]
  },
  {
   "cell_type": "code",
   "execution_count": 3,
   "metadata": {
    "collapsed": false
   },
   "outputs": [],
   "source": [
    "# define class Node to create a linked list\n",
    "class Node(object):\n",
    "  def __init__(self, data):\n",
    "    self.data = data\n",
    "    self.next = None\n",
    "    \n",
    "# main procedure\n",
    "def question5(ll, m):\n",
    "    \n",
    "    # if ll is not a Node, return error message\n",
    "    if type(ll) != Node:\n",
    "        return \"Error: ll is not a Node!\"\n",
    "\n",
    "    # if m is not integer, return error message\n",
    "    if type(m) != int or m < 1:\n",
    "        return \"Error: m is not a positive integer!\"\n",
    "    \n",
    "    # count nodes by traversing the linked list until None\n",
    "    pointer = ll\n",
    "    count = 0\n",
    "    while (pointer != None):\n",
    "        pointer = pointer.next\n",
    "        count += 1\n",
    "        \n",
    "    # if m is larger than node count, return error message\n",
    "    if m > count:\n",
    "        return \"Error: m is greater than the number of nodes in the list!\"\n",
    "    \n",
    "    # find the data at the position\n",
    "    pointer = ll\n",
    "    position = 0\n",
    "    while (position != (count-m)):\n",
    "        pointer = pointer.next\n",
    "        position += 1\n",
    "    \n",
    "    return pointer.data\n",
    "        "
   ]
  },
  {
   "cell_type": "markdown",
   "metadata": {},
   "source": [
    "### Test Case 5-1:"
   ]
  },
  {
   "cell_type": "code",
   "execution_count": 4,
   "metadata": {
    "collapsed": false
   },
   "outputs": [
    {
     "data": {
      "text/plain": [
       "3"
      ]
     },
     "execution_count": 4,
     "metadata": {},
     "output_type": "execute_result"
    }
   ],
   "source": [
    "n1, n2, n3, n4, n5 = Node(1), Node(2), Node(3), Node(4), Node(5)\n",
    "n1.next = n2\n",
    "n2.next = n3\n",
    "n3.next = n4\n",
    "n4.next = n5\n",
    "\n",
    "question5(n1, 3)"
   ]
  },
  {
   "cell_type": "markdown",
   "metadata": {},
   "source": [
    "### Test Case 5-2:"
   ]
  },
  {
   "cell_type": "code",
   "execution_count": 6,
   "metadata": {
    "collapsed": false
   },
   "outputs": [
    {
     "data": {
      "text/plain": [
       "'Error: ll is not a Node!'"
      ]
     },
     "execution_count": 6,
     "metadata": {},
     "output_type": "execute_result"
    }
   ],
   "source": [
    "# None node case\n",
    "n=None\n",
    "question5(n, 1)"
   ]
  },
  {
   "cell_type": "code",
   "execution_count": 7,
   "metadata": {
    "collapsed": false
   },
   "outputs": [
    {
     "data": {
      "text/plain": [
       "'Error: m is not a positive integer!'"
      ]
     },
     "execution_count": 7,
     "metadata": {},
     "output_type": "execute_result"
    }
   ],
   "source": [
    "# m = 0\n",
    "question5(n1, 0)"
   ]
  },
  {
   "cell_type": "code",
   "execution_count": 8,
   "metadata": {
    "collapsed": false
   },
   "outputs": [
    {
     "data": {
      "text/plain": [
       "'Error: m is greater than the number of nodes in the list!'"
      ]
     },
     "execution_count": 8,
     "metadata": {},
     "output_type": "execute_result"
    }
   ],
   "source": [
    "# m is greater than length of the list\n",
    "question5(n1, 10)"
   ]
  },
  {
   "cell_type": "markdown",
   "metadata": {},
   "source": [
    "### Test Case 5-3:"
   ]
  },
  {
   "cell_type": "code",
   "execution_count": 11,
   "metadata": {
    "collapsed": false
   },
   "outputs": [
    {
     "name": "stdout",
     "output_type": "stream",
     "text": [
      "3\n",
      "\n",
      "This took 0.00099993 seconds\n",
      "\n"
     ]
    }
   ],
   "source": [
    "start = time()\n",
    "a1, a2, a3, a4, a5 = Node(1), Node(2), Node(3), Node(4), Node(5)\n",
    "a6, a7, a8, a9, a10 = Node(6), Node(7), Node(8), Node(9), Node(10)\n",
    "\n",
    "a1.next = a2\n",
    "a2.next = a3\n",
    "a3.next = a4\n",
    "a4.next = a5\n",
    "a5.next = a6\n",
    "a6.next = a7\n",
    "a7.next = a8\n",
    "a8.next = a9\n",
    "a9.next = a10\n",
    "\n",
    "\n",
    "print question5(a1, 8)\n",
    "print \"\\nThis took %.8f seconds\\n\" %(time() - start)"
   ]
  },
  {
   "cell_type": "markdown",
   "metadata": {},
   "source": [
    "## Explanation:\n",
    "\n",
    "My choice of the data structure to solve this question was a linked list, whose element stores a key and next pointer. \n",
    "\n",
    "### Space complexity:\n",
    "1. each Node() takes two data spaces and whole linked list takes space of the number (N) of nodes; O(2N)\n",
    "2. in the procedure, for some odd cases, it returns error message. It does not need to go through the rest of codes; O(1)\n",
    "3. for other cases, it creates 'pointer' and 'count'. 'pointer' takes two data spaces and 'count' takes one space; O(3)\n",
    "4. at the step of finding data, it creates 'pointer' and 'position'; O(3)\n",
    "5. finally, it returns 'pointer.data'; O(1)\n",
    "\n",
    "Overall, all steps take constant space except the step creating a linked list, so the space complexity of the worst case would be O(2N). But question5 procedure itself will have constant space which does not change with the input size \n",
    "\n",
    "### Time efficiency:\n",
    "1. each Node() takes O(1) time and so creating a tree takes O(N) time\n",
    "2. the main procedure has two while-loops. The first while-loop takes O(N) and the second while-loop takes O(N)\n",
    "\n",
    "Overall procedure would take O(2N) time. But after dropping constant, the time complexity of the worst case would be O(N)."
   ]
  }
 ],
 "metadata": {
  "kernelspec": {
   "display_name": "Python [Root]",
   "language": "python",
   "name": "Python [Root]"
  },
  "language_info": {
   "codemirror_mode": {
    "name": "ipython",
    "version": 2
   },
   "file_extension": ".py",
   "mimetype": "text/x-python",
   "name": "python",
   "nbconvert_exporter": "python",
   "pygments_lexer": "ipython2",
   "version": "2.7.12"
  }
 },
 "nbformat": 4,
 "nbformat_minor": 0
}
