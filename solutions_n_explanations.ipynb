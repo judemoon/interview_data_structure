{
 "cells": [
  {
   "cell_type": "markdown",
   "metadata": {},
   "source": [
    "# Technical Interview Practice - Python\n",
    "\n",
    "August 2017, by Jude Moon\n",
    "\n",
    "# Practice Overview\n",
    "\n",
    "For this practice, I will be given [five technical interviewing questions](https://classroom.udacity.com/nanodegrees/nd002/parts/19280355-b835-4ce4-b867-2c2e2e85d0a0/modules/07cc5d99-f81d-45df-af3b-9206dca1739d/lessons/7736707697239847/concepts/78912813390923) on a variety of topics discussed in the technical interviewing course. I will write the answers using Python code, as well as the explanations of the efficiency of the code and the design choices.\n",
    "\n",
    "***\n",
    "\n",
    "# Question 1.\n",
    "Given two strings s and t, determine whether some anagram of t is a substring of s. For example: if s = \"udacity\" and t = \"ad\", then the function returns True. Your function definition should look like: question1(s, t) and return a boolean True or False.\n",
    "\n",
    "## Understand the Question:\n",
    "\"anagram\" means a word, phrase, or name formed by **rearranging** the letters of another, using all the original letters **once**. From the example of s = \"udacity\", the input of t = \"aad\" should return False because t uses \"a\" twice. But inputting s = \"apple\" and t = \"pp\" should return True because t uses original letters once.\n",
    "\n",
    "Some of odd cases such as empty string or null needs to be defined to return error messages.\n",
    "- return error if two arguments are not string.\n",
    "- return error if the length of the subject string (the first argument) is zero or smaller than anagramed string (the second argument). \n",
    "\n",
    "## Answer Code:"
   ]
  },
  {
   "cell_type": "code",
   "execution_count": 1,
   "metadata": {
    "collapsed": true
   },
   "outputs": [],
   "source": [
    "from time import time\n",
    "\n",
    "# helper procedure to search character list of t in the character list of s and\n",
    "# if any character of t list is not in the s list, return False\n",
    "def is_anagram(s, t):\n",
    "    \n",
    "    # conver all characters to lower case\n",
    "    s = s.lower()\n",
    "    t = t.lower()\n",
    "    \n",
    "    # convert string to list; each character of the string as element of the list\n",
    "    s_list = list(s)\n",
    "    t_list = list(t)\n",
    "    \n",
    "    # stop the loop and return False when any character of t is not shown in s\n",
    "    for char in t_list:\n",
    "        if char not in s_list:\n",
    "            return False\n",
    "            break\n",
    "        \n",
    "        s_list.remove(char) # to prevent from using the same letter more than once, \n",
    "                            # remove the letter from the list\n",
    "    return True\n",
    "\n",
    "# main procedure\n",
    "def question1(s, t):\n",
    "    \n",
    "    # if s is not string, return error message\n",
    "    if type(s) != str:\n",
    "        return \"Error: The first argument is not string!\"\n",
    "\n",
    "    # if t is not string, return error message\n",
    "    if type(t) != str:\n",
    "        return \"Error: The second argument is not string!\"\n",
    "    \n",
    "    # if the number of characters of s is zero or smaller than that of t, return error message\n",
    "    if len(s) == 0 or len(s) < len(t):\n",
    "        return \"Error: The string length of the first argument needs to be greater than that of the second argument!\"\n",
    "    \n",
    "    # if t is empty string, the answer should alwasy be True\n",
    "    if len(t) == 0:\n",
    "        return True\n",
    "    \n",
    "    if is_anagram(s, t):\n",
    "        return True\n",
    "    \n",
    "    return False"
   ]
  },
  {
   "cell_type": "markdown",
   "metadata": {},
   "source": [
    "### Test Case 1-1:"
   ]
  },
  {
   "cell_type": "code",
   "execution_count": null,
   "metadata": {
    "collapsed": false
   },
   "outputs": [],
   "source": [
    "s1 = \"udacity\"\n",
    "t1 = \"ad\"\n",
    "question1(s1, t1)"
   ]
  },
  {
   "cell_type": "code",
   "execution_count": null,
   "metadata": {
    "collapsed": false
   },
   "outputs": [],
   "source": [
    "t2 = \"cityuda\"\n",
    "question1(s1, t2)"
   ]
  },
  {
   "cell_type": "markdown",
   "metadata": {},
   "source": [
    "### Test Case 1-2:"
   ]
  },
  {
   "cell_type": "code",
   "execution_count": null,
   "metadata": {
    "collapsed": false
   },
   "outputs": [],
   "source": [
    "# Empty string for anagram\n",
    "t3 = \"\"\n",
    "question1(s1, t3)"
   ]
  },
  {
   "cell_type": "code",
   "execution_count": null,
   "metadata": {
    "collapsed": false
   },
   "outputs": [],
   "source": [
    "# Null anagram\n",
    "t4 = None\n",
    "question1(s1, t4)"
   ]
  },
  {
   "cell_type": "markdown",
   "metadata": {},
   "source": [
    "### Test Case 1-3:"
   ]
  },
  {
   "cell_type": "code",
   "execution_count": null,
   "metadata": {
    "collapsed": false
   },
   "outputs": [],
   "source": [
    "start = time()\n",
    "t5 = \"uuda\"\n",
    "\n",
    "print question1(s1, t5)\n",
    "print \"\\nThis took %.8f seconds\\n\" %(time() - start)"
   ]
  },
  {
   "cell_type": "code",
   "execution_count": null,
   "metadata": {
    "collapsed": false
   },
   "outputs": [],
   "source": [
    "start = time()\n",
    "s2 = \"University\"\n",
    "t6 = \"universe\"\n",
    "\n",
    "print question1(s2, t6)\n",
    "print \"\\nThis took %.8f seconds\\n\" %(time() - start)"
   ]
  },
  {
   "cell_type": "code",
   "execution_count": null,
   "metadata": {
    "collapsed": false
   },
   "outputs": [],
   "source": [
    "start = time()\n",
    "s3 = \"udacity\"*1000\n",
    "t7 = \"ad\"*1000\n",
    "\n",
    "print question1(s3, t7)\n",
    "print \"\\nThis took %.8f seconds\\n\" %(time() - start)"
   ]
  },
  {
   "cell_type": "markdown",
   "metadata": {},
   "source": [
    "## Explanation:\n",
    "\n",
    "My choice of the data structure to solve this question was list, which was treated as indexed array. The python built-in function, list() allowed to convert each character of a string to each element of a list. And each element of anagram (t) list was iterated in the for-loop and then was searched if the element appears in the subject (s) list in the if-statement. Therefore, the time efficiency and space complexity of worst case would be O(len(t) + len(s)). The output was generated only one time. So the O notation would be **O(len(t) + len(s) + 1)**.\n",
    "\n",
    "***\n",
    "\n",
    "# Question 2.\n",
    "Given a string a, find the longest palindromic substring contained in a. Your function definition should look like question2(a), and return a string.\n",
    "\n",
    "\n",
    "## Understand the Question:\n",
    "\n",
    "\"palindrome\" is a word, phrase, number, or other sequence of characters which reads the same backward as forward, such as madam or racecar. And the question is to answer longest palindromic substring. For example, the procedure with the input of 'ababa' will return 'ababa', not 'aba'.\n",
    "\n",
    "Some of odd cases such as empty string or null needs to be defined.\n",
    "- return the original input if the length of the string is zero or smaller than 2. \n",
    "- return error if the argument is not string.\n",
    "\n",
    "## Answer Code:"
   ]
  },
  {
   "cell_type": "code",
   "execution_count": null,
   "metadata": {
    "collapsed": true
   },
   "outputs": [],
   "source": [
    "# helper procedure to find palindroms by looking at all of \n",
    "# possible substrings and checking them individually\n",
    "def longest_palindrome(a):\n",
    "    \n",
    "    a = a.lower() # conver all characters to lower case\n",
    "    \n",
    "    longest = \"\"\n",
    "    for i in range(len(a)):\n",
    "        for j in range(0, i):\n",
    "            substring = a[j:i + 1] # get every possible substring\n",
    "            if substring == substring[::-1]: # [::-1] sorts elements reversely\n",
    "                if len(substring) > len(longest):\n",
    "                    longest = substring\n",
    "    \n",
    "    if longest:\n",
    "        return longest\n",
    "    \n",
    "    return None # if there is no palindrome, return None\n",
    "\n",
    "\n",
    "# main procedure\n",
    "def question2(a):\n",
    "    # if a is not string, return error message\n",
    "    if type(a) != str:\n",
    "        return \"Error: a not string!\"\n",
    "    \n",
    "    # if the length of a is zero or smaller than 2, return a as it is\n",
    "    if len(a) < 2:\n",
    "        return a\n",
    "    \n",
    "    return longest_palindrome(a)\n",
    "        "
   ]
  },
  {
   "cell_type": "markdown",
   "metadata": {},
   "source": [
    "### Test Case 2-1:"
   ]
  },
  {
   "cell_type": "code",
   "execution_count": null,
   "metadata": {
    "collapsed": false
   },
   "outputs": [],
   "source": [
    "question2('ABCBAbcba')"
   ]
  },
  {
   "cell_type": "code",
   "execution_count": null,
   "metadata": {
    "collapsed": false
   },
   "outputs": [],
   "source": [
    "question2(\"AbcbaI4ojajo4iaj8aoa8jA\")"
   ]
  },
  {
   "cell_type": "markdown",
   "metadata": {},
   "source": [
    "### Test Case 2-2:"
   ]
  },
  {
   "cell_type": "code",
   "execution_count": null,
   "metadata": {
    "collapsed": false
   },
   "outputs": [],
   "source": [
    "# Null string case\n",
    "question2(None)"
   ]
  },
  {
   "cell_type": "code",
   "execution_count": null,
   "metadata": {
    "collapsed": false
   },
   "outputs": [],
   "source": [
    "# Empty string case\n",
    "question2(\"\")"
   ]
  },
  {
   "cell_type": "code",
   "execution_count": null,
   "metadata": {
    "collapsed": false
   },
   "outputs": [],
   "source": [
    "# One letter string case\n",
    "question2(\"a\")"
   ]
  },
  {
   "cell_type": "markdown",
   "metadata": {},
   "source": [
    "### Test Case 2-3:"
   ]
  },
  {
   "cell_type": "code",
   "execution_count": null,
   "metadata": {
    "collapsed": false
   },
   "outputs": [],
   "source": [
    "start = time()\n",
    "a1 = \"udacity\"\n",
    "print question2(a1)\n",
    "print \"\\nThis took %.8f seconds\\n\" %(time() - start)"
   ]
  },
  {
   "cell_type": "code",
   "execution_count": null,
   "metadata": {
    "collapsed": false
   },
   "outputs": [],
   "source": [
    "start = time()\n",
    "a2 = \"udaaaaacity\"\n",
    "print question2(a2)\n",
    "print \"\\nThis took %.8f seconds\\n\" %(time() - start)"
   ]
  },
  {
   "cell_type": "code",
   "execution_count": null,
   "metadata": {
    "collapsed": false
   },
   "outputs": [],
   "source": [
    "start = time()\n",
    "print question2(a2*1000)\n",
    "print \"\\nThis took %.8f seconds\\n\" %(time() - start)"
   ]
  },
  {
   "cell_type": "markdown",
   "metadata": {},
   "source": [
    "## Explanation:\n",
    "\n",
    "My choice of the data structure to solve this question was string, which was treated as indexed array. The input string was manipulated using index system to create sub-string and sort reversely. I used two for-loops to iterate every possible substring and each loop will consume len(a) times or n times of time and space. The output was created as emtpy string first, updated each time iteration, and returned at the end of the procedure. The time efficiency and space complexity of worst case would be **O(n<sup>2</sup> + 3)**.\n",
    "\n",
    "***\n",
    "\n",
    "# Question 3.\n",
    "Given an undirected graph G, find the minimum spanning tree within G. A minimum spanning tree connects all vertices in a graph with the smallest possible total weight of edges. Your function should take in and return an adjacency list structured like this:\n",
    "\n",
    ">{'A': [('B', 2)],\n",
    "\n",
    "> 'B': [('A', 2), ('C', 5)], \n",
    "\n",
    "> 'C': [('B', 5)]}\n",
    " \n",
    "Vertices are represented as unique strings. The function definition should be question3(G)\n",
    "\n",
    "## Understand the Question:\n",
    "\n",
    "A minimum spanning tree (MST) or minimum weight spanning tree is a subset of the edges of a connected, edge-weighted undirected graph that connects all the vertices together, without any cycles and with the minimum possible total edge weight.\n",
    "\n",
    "Kruskal Algorithm builds the spanning tree by adding edges one by one into a growing spanning tree. \n",
    "\n",
    "Pseudocode\n",
    "\n",
    "KRUSKAL(G):\n",
    "1. A = ∅\n",
    "2. foreach v ∈ G.V:\n",
    "3.    MAKE-SET(v)\n",
    "4. foreach (u, v) in G.E ordered by weight(u, v), increasing:\n",
    "5.    if FIND-SET(u) ≠ FIND-SET(v):\n",
    "6.       A = A ∪ {(u, v)}\n",
    "7.       UNION(u, v)\n",
    "8. return A\n",
    "\n",
    "Some of odd cases such as empty dictionary or null needs to be defined.\n",
    "- return the original input if the length of the string is zero or smaller than 2. \n",
    "- return error if the argument is not dictionary.\n",
    "\n",
    "\n",
    "## Answer Code:"
   ]
  },
  {
   "cell_type": "code",
   "execution_count": null,
   "metadata": {
    "collapsed": true
   },
   "outputs": [],
   "source": [
    "# declare global variables 'parent' and 'rank' which are used in all procedures\n",
    "# parent stores a root of each node and will be updated when unified two disjoint sets\n",
    "# rank is used to compare the number of nodes in two disjoint sets \n",
    "parent = {}\n",
    "rank = {}\n",
    "\n",
    "# helper procedure to find the root node which this vertex belongs, \n",
    "# using recursive definition; \n",
    "# base case is parent[vertex] == vertex, where itself is the root\n",
    "# recursive case is parent[vertex] != vertex\n",
    "def find_root(vertex):\n",
    "    if parent[vertex] != vertex:  \n",
    "        parent[vertex] = find_root(parent[vertex])\n",
    "    return parent[vertex]\n",
    "\n",
    "# helper procedure to unify the sets by comparing their root nodes and rank \n",
    "def union(vertex1, vertex2):\n",
    "    root1 = find_root(vertex1)\n",
    "    root2 = find_root(vertex2)\n",
    "    if rank[root1] > rank[root2]:\n",
    "        parent[root2] = root1\n",
    "    else:\n",
    "        parent[root1] = root2\n",
    "        if rank[root1] == rank[root2]: \n",
    "            rank[root2] += 1\n",
    "\n",
    "# main procedure\n",
    "def question3(G):\n",
    "    \n",
    "    # if G is not dictionary, return error message\n",
    "    if type(G) != dict:\n",
    "        return \"Error: G is not dictionary!\"\n",
    "    \n",
    "    # if the length of G is zero or smaller than 2, return G as it is\n",
    "    if len(G) < 2:\n",
    "        return G\n",
    "    \n",
    "    ### perform kruskal algorithm to find MST ###\n",
    "    \n",
    "    # step1: initialize disjoint sets  \n",
    "    vertices = G.keys() # collect vertices\n",
    "    for vertex in vertices:\n",
    "        parent[vertex] = vertex # the parent value of the key is set to itself\n",
    "        rank[vertex] = 0 # the rank value is set to 0, meaning 0 union occurrence\n",
    "    \n",
    "        \n",
    "    # step2: get list of unique edges\n",
    "    # each edge consists of 3 element-tuple, (vertex1, vertex2, edge_weight)\n",
    "    # vertex1 is always alphabetically earlier than vertex2\n",
    "    edges = []\n",
    "    for vertex in vertices:\n",
    "        for connections in G[vertex]:\n",
    "            if vertex < connections[0]:\n",
    "                edges.append((vertex, connections[0], connections[1]))\n",
    "                \n",
    "    # step3: sort edges by increasing edge_weight\n",
    "    edges = sorted(edges, key=lambda x : x[2])\n",
    "    \n",
    "    # step4: find and compare roots of vertex1 and vertex2,\n",
    "    # and if the roots are different, unify disjoint sets containing vertex1 and vertex2,\n",
    "    # update rank of the roots, and then add the edge to MST set\n",
    "    MST = set() # a set is an unordered collection with no duplicate elements\n",
    "    for edge in edges:\n",
    "        if find_root(edge[0]) != find_root(edge[1]): \n",
    "            union(edge[0], edge[1])\n",
    "            MST.add(edge)\n",
    "    \n",
    "    # MST set into the dictionary of adjacency list\n",
    "    output = {}\n",
    "    for node in MST:\n",
    "        if  node[0] in output:\n",
    "            output[node[0]].append((node[1], node[2]))\n",
    "        else:\n",
    "            output[node[0]] = [(node[1], node[2])]\n",
    "        if node[1] in output:\n",
    "            output[node[1]].append((node[0], node[2]))\n",
    "        else:\n",
    "            output[node[1]] = [(node[0], node[2])]\n",
    "            \n",
    "    return output"
   ]
  },
  {
   "cell_type": "markdown",
   "metadata": {},
   "source": [
    "### Test Case 2-1:"
   ]
  },
  {
   "cell_type": "code",
   "execution_count": null,
   "metadata": {
    "collapsed": false
   },
   "outputs": [],
   "source": [
    "G1 = {'A': [('B', 2)],\n",
    "      'B': [('A', 2), ('C', 5)], \n",
    "      'C': [('B', 5)]}\n",
    "\n",
    "question3(G1) "
   ]
  },
  {
   "cell_type": "markdown",
   "metadata": {},
   "source": [
    "### Test Case 2-2:"
   ]
  },
  {
   "cell_type": "code",
   "execution_count": null,
   "metadata": {
    "collapsed": false
   },
   "outputs": [],
   "source": [
    "# Null dictionary case\n",
    "G3 = None\n",
    "question3(G3)"
   ]
  },
  {
   "cell_type": "code",
   "execution_count": null,
   "metadata": {
    "collapsed": false
   },
   "outputs": [],
   "source": [
    "# Empty dictionary case\n",
    "G4 = {}\n",
    "question3(G4) # expect {}"
   ]
  },
  {
   "cell_type": "code",
   "execution_count": null,
   "metadata": {
    "collapsed": false
   },
   "outputs": [],
   "source": [
    "# One node dictionary case\n",
    "G5 = {'A': ['A', 2]}\n",
    "question3(G5) # expect {}"
   ]
  },
  {
   "cell_type": "markdown",
   "metadata": {},
   "source": [
    "### Test Case 2-3:"
   ]
  },
  {
   "cell_type": "code",
   "execution_count": 2,
   "metadata": {
    "collapsed": false
   },
   "outputs": [
    {
     "ename": "NameError",
     "evalue": "name 'question3' is not defined",
     "output_type": "error",
     "traceback": [
      "\u001b[1;31m---------------------------------------------------------------------------\u001b[0m",
      "\u001b[1;31mNameError\u001b[0m                                 Traceback (most recent call last)",
      "\u001b[1;32m<ipython-input-2-8aa066bd28cf>\u001b[0m in \u001b[0;36m<module>\u001b[1;34m()\u001b[0m\n\u001b[0;32m      7\u001b[0m      'E': [('B', 4), ('D', 2)]}\n\u001b[0;32m      8\u001b[0m \u001b[1;33m\u001b[0m\u001b[0m\n\u001b[1;32m----> 9\u001b[1;33m \u001b[0mpprint\u001b[0m\u001b[1;33m.\u001b[0m\u001b[0mpprint\u001b[0m\u001b[1;33m(\u001b[0m\u001b[0mquestion3\u001b[0m\u001b[1;33m(\u001b[0m\u001b[0mG2\u001b[0m\u001b[1;33m)\u001b[0m\u001b[1;33m)\u001b[0m\u001b[1;33m\u001b[0m\u001b[0m\n\u001b[0m\u001b[0;32m     10\u001b[0m \u001b[1;32mprint\u001b[0m \u001b[1;34m\"\\nThis took %.8f seconds\\n\"\u001b[0m \u001b[1;33m%\u001b[0m\u001b[1;33m(\u001b[0m\u001b[0mtime\u001b[0m\u001b[1;33m(\u001b[0m\u001b[1;33m)\u001b[0m \u001b[1;33m-\u001b[0m \u001b[0mstart\u001b[0m\u001b[1;33m)\u001b[0m\u001b[1;33m\u001b[0m\u001b[0m\n",
      "\u001b[1;31mNameError\u001b[0m: name 'question3' is not defined"
     ]
    }
   ],
   "source": [
    "import pprint\n",
    "start = time()\n",
    "G2 = {'A': [('B', 1), ('C', 7)],\n",
    "     'B': [('A', 1), ('C', 5), ('D', 3), ('E', 4)],\n",
    "     'C': [('A', 7), ('B', 5), ('D', 6)],\n",
    "     'D': [('B', 3), ('C', 6), ('E', 2)],\n",
    "     'E': [('B', 4), ('D', 2)]}\n",
    "\n",
    "pprint.pprint(question3(G2))\n",
    "print \"\\nThis took %.8f seconds\\n\" %(time() - start)"
   ]
  },
  {
   "cell_type": "code",
   "execution_count": null,
   "metadata": {
    "collapsed": false
   },
   "outputs": [],
   "source": [
    "start = time()\n",
    "G6 = {'A': [('B', 7), ('D', 5)],\n",
    "      'B': [('A', 7), ('C', 8), ('D', 9), ('E', 7)],\n",
    "      'C': [('B', 8), ('E', 5)],\n",
    "      'D': [('A', 5), ('B', 9), ('E', 15), ('F', 6)],\n",
    "      'E': [('B', 7), ('C', 5), ('D', 15), ('F', 8), ('G', 9)],\n",
    "      'F': [('D', 6), ('E', 8), ('G', 11)],\n",
    "      'G': [('E', 9), ('F', 11)]}\n",
    "\n",
    "pprint.pprint(question3(G6)) \n",
    "print \"\\nThis took %.8f seconds\\n\" %(time() - start)"
   ]
  },
  {
   "cell_type": "markdown",
   "metadata": {},
   "source": [
    "## Explanation:\n",
    "\n",
    "My choices of the data structure to solve this question were dictionaries and lists, which were treated as indexed array. \n",
    "\n",
    "Time efficiency and space complexity of each step:\n",
    "\n",
    "(G is graph input; V is vertices; E is edges)\n",
    "\n",
    "1. initialize disjoint sets, containing one for-loop; O(len(V))\n",
    "2. get list of unique edges, containing two for-loops; O(len(V)\\*len(E))\n",
    "3. find and compare roots of vertex1 and vertex2, containing one for-loop; O(len(E))\n",
    "\n",
    "***\n",
    "\n",
    "# Question 4.\n",
    "Find the least common ancestor between two nodes on a binary search tree. The least common ancestor is the farthest node from the root that is an ancestor of both nodes. For example, the root is a common ancestor of all nodes on the tree, but if both nodes are descendents of the root's left child, then that left child might be the lowest common ancestor. You can assume that both nodes are in the tree, and the tree itself adheres to all BST properties. The function definition should look like question4(T, r, n1, n2), where T is the tree represented as a matrix, where the index of the list is equal to the integer stored in that node and a 1 represents a child node, r is a non-negative integer representing the root, and n1 and n2 are non-negative integers representing the two nodes in no particular order. For example, one test case might be\n",
    "\n",
    ">question4(\n",
    "\n",
    ">           [[0, 1, 0, 0, 0],\n",
    "\n",
    ">           [0, 0, 0, 0, 0],\n",
    "\n",
    ">           [0, 0, 0, 0, 0],\n",
    "\n",
    ">           [1, 0, 0, 0, 1],\n",
    "\n",
    ">           [0, 0, 0, 0, 0]],\n",
    "\n",
    ">           3, 1, 4)\n",
    "\n",
    "and the answer would be 3.\n",
    "\n",
    "## Understand the Question:\n",
    "\n",
    "Binary tree is a tree data structure in which each node has at most two children, which are referred to as the left child and the right child. Binary search tree (BST) is a type of binary tree with the property of that the key of every node on the right subtree has to be larger than the key of the current node and the key of every node on the left subtree has to be smaller than the key of the current node. The tree of the example given in the question would look something like this: \n",
    "\n",
    "\n",
    "![image](Capture2.JPG)\n",
    "\n",
    "Notice that the nodes on the left subtree are '0' and '1' which is smaller than the root key '3' and the node on the right is '4', which is greater than the root key.\n",
    "\n",
    "Steps for  the solution:\n",
    "1. get a list of parents for each node; a parent list for n1 and a parent list for n2.\n",
    "2. compare and find common elements between two lists.\n",
    "\n",
    "Some of odd cases such as empty list or null needs to be defined. \n",
    "- return error if the T argument is not list or null.\n",
    "- return error if the T argument is not 2D array with row length = col length.\n",
    "- return error if the r, n1, and n2 arguments are not positive integers.\n",
    "- return error if the r, n1, and n2 arguments are not tree (T).\n",
    "- return error if the n1 and n2 arguments are the root (r) of tree (T).\n",
    "\n",
    "\n",
    "## Answer Code:"
   ]
  },
  {
   "cell_type": "code",
   "execution_count": 49,
   "metadata": {
    "collapsed": true
   },
   "outputs": [],
   "source": [
    "import numpy as np\n",
    "\n",
    "# helper procedure to get a immediate parent\n",
    "def get_parent(tree, child):\n",
    "    for i in range(len(tree)):\n",
    "        if tree[:, child][i] == 1: # to access elements, use tree[row, col]\n",
    "            return i # i is a parent of the child\n",
    "\n",
    "# helper procedure to get a list of all parents including itself\n",
    "def get_history(tree, root, child):\n",
    "    history = [child] \n",
    "    while (child != root): \n",
    "        parent = get_parent(tree, child)\n",
    "        history.append(parent) # collect parents each iteration\n",
    "        child = parent # parent becomes child for the nex iteration\n",
    "    return history\n",
    "\n",
    "# helper procedure to get the first appeared common element from two lists\n",
    "def common_ancestor(n1_parents, n2_parents):\n",
    "    for n1_parent in n1_parents:\n",
    "        for n2_parent in n2_parents:\n",
    "            if n1_parent == n2_parent:\n",
    "                return n2_parent \n",
    "\n",
    "# main procedure\n",
    "def question4(T, r, n1, n2):\n",
    "    \n",
    "    # if T is not list, return error message\n",
    "    if type(T) != list:\n",
    "        return \"Error: T is not list!\"\n",
    "    \n",
    "    # if T is not 2D array with same lengths of row and column, return error message\n",
    "    if len(np.shape(T)) != 2 or np.shape(T)[0] != np.shape(T)[1]:\n",
    "        return \"Error: T is not 2D array with len(row) = len(col)!\"\n",
    "    \n",
    "    # if r, n1 and n2 are not positive integers, return error message\n",
    "    if type(r) != int or r < 0:\n",
    "        return \"Error: r not positive integer!\"\n",
    "    if type(n1) != int or n1 < 0:\n",
    "        return \"Error: n1 not positive integer!\"\n",
    "    if type(n2) != int or n2 < 0:\n",
    "        return \"Error: n2 not positive integer!\"\n",
    "    \n",
    "    # if r, n1 and n2 are not nodes in the tree, return error message\n",
    "    if r >= len(T):\n",
    "        return \"Error: r not in the tree!\"\n",
    "    if n1 >= len(T):\n",
    "        return \"Error: n1 not in the tree!\"\n",
    "    if n2 >= len(T):\n",
    "        return \"Error: n2 not in the tree!\"\n",
    "    \n",
    "    # if n1 and n2 are r, return error message\n",
    "    if n1 == r:\n",
    "        return \"Error: n1 cannot be r!\"\n",
    "    if n2 == r:\n",
    "        return \"Error: n2 cannot be r!\"\n",
    "    \n",
    "    # covert T from list to numpy array to access col and row using tuple\n",
    "    T = np.array(T)\n",
    "    \n",
    "    return common_ancestor(get_history(T, r, n1), get_history(T, r, n2)) "
   ]
  },
  {
   "cell_type": "markdown",
   "metadata": {},
   "source": [
    "### Test Case 2-1:"
   ]
  },
  {
   "cell_type": "code",
   "execution_count": 50,
   "metadata": {
    "collapsed": false
   },
   "outputs": [
    {
     "data": {
      "text/plain": [
       "3"
      ]
     },
     "execution_count": 50,
     "metadata": {},
     "output_type": "execute_result"
    }
   ],
   "source": [
    "T1 = [[0, 1, 0, 0, 0],\n",
    "     [0, 0, 0, 0, 0],\n",
    "     [0, 0, 0, 0, 0],\n",
    "     [1, 0, 0, 0, 1],\n",
    "     [0, 0, 0, 0, 0]]\n",
    "\n",
    "question4(T1, 3, 1, 4)"
   ]
  },
  {
   "cell_type": "code",
   "execution_count": 51,
   "metadata": {
    "collapsed": false
   },
   "outputs": [
    {
     "data": {
      "text/plain": [
       "0"
      ]
     },
     "execution_count": 51,
     "metadata": {},
     "output_type": "execute_result"
    }
   ],
   "source": [
    "question4(T1, 3, 1, 0)"
   ]
  },
  {
   "cell_type": "markdown",
   "metadata": {},
   "source": [
    "### Test Case 2-2:"
   ]
  },
  {
   "cell_type": "code",
   "execution_count": 53,
   "metadata": {
    "collapsed": false
   },
   "outputs": [
    {
     "data": {
      "text/plain": [
       "'Error: T is not list!'"
      ]
     },
     "execution_count": 53,
     "metadata": {},
     "output_type": "execute_result"
    }
   ],
   "source": [
    "# Null tree case\n",
    "question4(None, 3, 1, 0)"
   ]
  },
  {
   "cell_type": "code",
   "execution_count": 59,
   "metadata": {
    "collapsed": false
   },
   "outputs": [
    {
     "data": {
      "text/plain": [
       "'Error: T is not 2D array with len(row) = len(col)!'"
      ]
     },
     "execution_count": 59,
     "metadata": {},
     "output_type": "execute_result"
    }
   ],
   "source": [
    "# Enmpty list tree case\n",
    "question4([[]], 3, 1, 0)"
   ]
  },
  {
   "cell_type": "code",
   "execution_count": 58,
   "metadata": {
    "collapsed": false
   },
   "outputs": [
    {
     "data": {
      "text/plain": [
       "'Error: T is not 2D array with len(row) = len(col)!'"
      ]
     },
     "execution_count": 58,
     "metadata": {},
     "output_type": "execute_result"
    }
   ],
   "source": [
    "# Tree with different col length and row length\n",
    "T2 = [[0, 1, 0, 0, 0],\n",
    "      [0, 0, 0, 0, 0],\n",
    "      [0, 0, 0, 0, 0],\n",
    "      [1, 0, 0, 0, 1]]\n",
    "\n",
    "question4(T2, 3, 1, 4)"
   ]
  },
  {
   "cell_type": "code",
   "execution_count": 73,
   "metadata": {
    "collapsed": false
   },
   "outputs": [
    {
     "data": {
      "text/plain": [
       "'Error: n1 not positive integer!'"
      ]
     },
     "execution_count": 73,
     "metadata": {},
     "output_type": "execute_result"
    }
   ],
   "source": [
    "# Negative integer for node index\n",
    "question4(T, 3, -1, -1)"
   ]
  },
  {
   "cell_type": "code",
   "execution_count": 71,
   "metadata": {
    "collapsed": false
   },
   "outputs": [
    {
     "data": {
      "text/plain": [
       "'Error: n2 not in the tree!'"
      ]
     },
     "execution_count": 71,
     "metadata": {},
     "output_type": "execute_result"
    }
   ],
   "source": [
    "# Node index is not in the tree\n",
    "question4(T, 3, 1, 10)"
   ]
  },
  {
   "cell_type": "code",
   "execution_count": 72,
   "metadata": {
    "collapsed": false
   },
   "outputs": [
    {
     "data": {
      "text/plain": [
       "'Error: n1 cannot be r!'"
      ]
     },
     "execution_count": 72,
     "metadata": {},
     "output_type": "execute_result"
    }
   ],
   "source": [
    "# Node index is same as root\n",
    "question4(T, 3, 3, 4)"
   ]
  },
  {
   "cell_type": "markdown",
   "metadata": {},
   "source": [
    "### Test Case 2-3:\n",
    "\n",
    "![image](Capture3.JPG)"
   ]
  },
  {
   "cell_type": "code",
   "execution_count": 74,
   "metadata": {
    "collapsed": false
   },
   "outputs": [
    {
     "name": "stdout",
     "output_type": "stream",
     "text": [
      "1\n",
      "\n",
      "This took 0.00099993 seconds\n",
      "\n"
     ]
    }
   ],
   "source": [
    "start = time()\n",
    "T3 = [[0, 0, 0, 0, 0, 0, 0],\n",
    "      [1, 0, 0, 1, 0, 0, 0],\n",
    "      [0, 0, 0, 0, 0, 0, 0],\n",
    "      [0, 0, 1, 0, 1, 0, 0],\n",
    "      [0, 0, 0, 0, 0, 0, 0],\n",
    "      [0, 1, 0, 0, 0, 0, 1],\n",
    "      [0, 0, 0, 0, 0, 0, 0]]\n",
    "\n",
    "print question4(T3, 5, 0, 4)\n",
    "print \"\\nThis took %.8f seconds\\n\" %(time() - start)"
   ]
  },
  {
   "cell_type": "markdown",
   "metadata": {},
   "source": [
    "## Explanation:\n",
    "\n",
    "My choices of the data structure to solve this question was list, which were treated as indexed array. \n",
    "\n",
    "Time efficiency and space complexity of each step:\n",
    "\n",
    "1. get a parent, containing one for-loop; O(len(T))\n",
    "2. get list of parents, containing one while-loop; O(len(T))\n",
    "3. find a common parent between two lists, containing two for-loops; O(len(T)<sup>2</sup>)\n",
    "\n",
    "\n",
    "***\n",
    "\n",
    "# Question 5.\n",
    "Find the element in a singly linked list that's m elements from the end. For example, if a linked list has 5 elements, the 3rd element from the end is the 3rd element. The function definition should look like question5(ll, m), where ll is the first node of a linked list and m is the \"mth number from the end\". You should copy/paste the Node class below to use as a representation of a node in the linked list. Return the value of the node at that position.\n",
    "\n",
    "class Node(object):\n",
    "  def __init__(self, data):\n",
    "    self.data = data\n",
    "    self.next = None\n",
    "    \n",
    "    \n",
    "## Understand the Question:\n",
    "\n",
    "A linked list is a linear data structure where each element is a separate object. Each element (or node) of a list is comprising of two items - the data and a reference to the next node. The last node has a reference to null. The entry point into a linked list is called the head of the list.\n",
    "\n",
    "## Answer Code:"
   ]
  },
  {
   "cell_type": "code",
   "execution_count": null,
   "metadata": {
    "collapsed": true
   },
   "outputs": [],
   "source": [
    "\n",
    "class Node(object):\n",
    "  def __init__(self, data):\n",
    "    self.data = data\n",
    "    self.next = None\n",
    "    \n",
    "#\n",
    "def question5(ll, m):\n",
    "    # make sure ll is a Node\n",
    "    if type(ll) != Node:\n",
    "        return \"Error: ll not a Node!\"\n",
    "\n",
    "    # make sure m is an integer\n",
    "    if type(m) != int:\n",
    "        return \"Error: m not an integer!\"\n",
    "    \n",
    "    # get the length of ll\n",
    "    length_ll = get_length(ll)\n",
    "\n",
    "    # make sure ll is not circular\n",
    "    if length_ll == -1:\n",
    "        return \"Error: circular linked list!\"\n",
    "        \n",
    "    # make sure m is less than or equal to the length of ll\n",
    "    if length_ll < m:\n",
    "        return \"Error: m greater than the length of ll!\"\n"
   ]
  },
  {
   "cell_type": "code",
   "execution_count": 75,
   "metadata": {
    "collapsed": false
   },
   "outputs": [
    {
     "name": "stdout",
     "output_type": "stream",
     "text": [
      "\n",
      "Answer 5:\n",
      "node in linked list that is 3 steps from the end is 3\n",
      "ERROR: 99 is greater than the no. of nodes in list\n",
      "node in linked list that is 3 steps from the end is None\n"
     ]
    }
   ],
   "source": [
    "# linked list node\n",
    "class Node(object):\n",
    "    def __init__(self, data):\n",
    "        self.data = data\n",
    "        self.next = None\n",
    "   \n",
    "# linked list \n",
    "class LinkedList(object):\n",
    "    def __init__(self, head=None):\n",
    "        self.head = head\n",
    "        \n",
    "    def append(self, new_node):\n",
    "        current = self.head\n",
    "        if self.head:\n",
    "            while current.next:\n",
    "                current = current.next\n",
    "            current.next = new_node\n",
    "        else:\n",
    "            self.head = new_node\n",
    "\n",
    "    \"\"\"\n",
    "    Maintain two pointers - reference pointer and main pointer. Initialize both reference and main \n",
    "    pointers to head. First move reference pointer to n nodes from head. Now move both pointers one \n",
    "    by one until reference pointer reaches end. Now main pointer will point to nth node from the end. \n",
    "    Return main pointer.\n",
    "    \"\"\"\n",
    "    def nthNodeFromLast(self, m):\n",
    "        main_ptr = self.head\n",
    "        ref_ptr = self.head \n",
    "     \n",
    "        count = 0\n",
    "        if(self.head is not None):\n",
    "            while(count < m):\n",
    "                if(ref_ptr is None):\n",
    "                    print \"ERROR: %d is greater than the no. of nodes in list\" % (m)\n",
    "                    return\n",
    "  \n",
    "                ref_ptr = ref_ptr.next\n",
    "                count += 1\n",
    " \n",
    "        while(ref_ptr is not None):\n",
    "            main_ptr = main_ptr.next\n",
    "            ref_ptr = ref_ptr.next\n",
    "        \n",
    "        return main_ptr\n",
    "    \n",
    "# main\n",
    "def question5(ll, m):\n",
    "    if ll:\n",
    "        return ll.nthNodeFromLast(m)\n",
    "\n",
    "# testcases\n",
    "print \"\\nAnswer 5:\"\n",
    "\n",
    "# base testcase\n",
    "# setup nodes\n",
    "n1 = Node(1)\n",
    "n2 = Node(2)\n",
    "n3 = Node(3)\n",
    "n4 = Node(4)\n",
    "n5 = Node(5)\n",
    "\n",
    "# setup LinkedList\n",
    "ll = LinkedList(n1)\n",
    "ll.append(n2)\n",
    "ll.append(n3)\n",
    "ll.append(n4)\n",
    "ll.append(n5)\n",
    "\n",
    "m = 3\n",
    "answer = question5(ll, m) # expect 3\n",
    "print \"node in linked list that is {} steps from the end is {}\".format(m, answer.data)\n",
    "\n",
    "# edge testcase-1\n",
    "m = 99\n",
    "answer = question5(ll, m) # expect ERROR: 99 is greater than the no. of nodes in list\n",
    "\n",
    "# edge testcase-2\n",
    "ll = None\n",
    "m = 3\n",
    "answer = question5(ll, m) # expect None\n",
    "print \"node in linked list that is {} steps from the end is {}\".format(m, answer)\n"
   ]
  },
  {
   "cell_type": "code",
   "execution_count": 76,
   "metadata": {
    "collapsed": true
   },
   "outputs": [],
   "source": [
    "class Node(object):\n",
    "  def __init__(self, data):\n",
    "    self.data = data\n",
    "    self.next = None\n",
    "\n",
    "def get_length(ll):\n",
    "    # get the length of ll\n",
    "    # also checking whether the linked list is circular\n",
    "    # return -1 if the linked list is circular\n",
    "\n",
    "    # length == 1\n",
    "    if ll.next == None:\n",
    "        return 1\n",
    "    \n",
    "    length_ll = 0\n",
    "    current_node = ll\n",
    "    current_node2 = ll.next\n",
    "    while current_node != None and current_node != current_node2:\n",
    "        current_node = current_node.next\n",
    "        if current_node2 != None:\n",
    "            current_node2 = current_node2.next\n",
    "        if current_node2 != None:\n",
    "            current_node2 = current_node2.next\n",
    "        length_ll += 1\n",
    "\n",
    "    if current_node == None:\n",
    "        return length_ll\n",
    "    else:\n",
    "        return -1\n",
    "\n",
    "def question5(ll, m):\n",
    "    # make sure ll is a Node\n",
    "    if type(ll) != Node:\n",
    "        return \"Error: ll not a Node!\"\n",
    "\n",
    "    # make sure m is an integer\n",
    "    if type(m) != int:\n",
    "        return \"Error: m not an integer!\"\n",
    "    \n",
    "    # get the length of ll\n",
    "    length_ll = get_length(ll)\n",
    "\n",
    "    # make sure ll is not circular\n",
    "    if length_ll == -1:\n",
    "        return \"Error: circular linked list!\"\n",
    "        \n",
    "    # make sure m is less than or equal to the length of ll\n",
    "    if length_ll < m:\n",
    "        return \"Error: m greater than the length of ll!\"\n",
    "    \n",
    "    # traverse to the last mth element\n",
    "    current_node = ll\n",
    "    for i in xrange(length_ll - m):\n",
    "        current_node = current_node.next\n",
    "        \n",
    "    return current_node.data\n",
    "\n",
    "def test5():\n",
    "    n1, n2, n3, n4, n5 = Node(1), Node(2), Node(3), Node(4), Node(5)\n",
    "    n4.next = n5\n",
    "    n3.next = n4\n",
    "    n2.next = n3\n",
    "    n1.next = n2\n",
    "    \n",
    "    print \"\\nTesting 5\"\n",
    "    print \"Edge case (ll not Node):\", \"Pass\" if \"Error: ll not a Node!\" == question5(123, 111) else \"Fail\"\n",
    "    print \"Edge case (m > length of ll):\", \"Pass\" if \"Error: m greater than the length of ll!\" == question5(n1, 6) else \"Fail\"\n",
    "    print \"Case (ll = n1 and m = 3):\", \"Pass\" if 3 == question5(n1, 3) else \"Fail\" \n",
    "    n5.next = n1\n",
    "    print \"Case (circular linked list):\", \"Pass\" if \"Error: circular linked list!\" == question5(n1, 3) else \"Fail\" \n"
   ]
  },
  {
   "cell_type": "code",
   "execution_count": 77,
   "metadata": {
    "collapsed": false
   },
   "outputs": [
    {
     "name": "stdout",
     "output_type": "stream",
     "text": [
      "\n",
      "Testing 5\n",
      "Edge case (ll not Node): Pass\n",
      "Edge case (m > length of ll): Pass\n",
      "Case (ll = n1 and m = 3): Pass\n",
      "Case (circular linked list): Pass\n"
     ]
    }
   ],
   "source": [
    "test5()"
   ]
  },
  {
   "cell_type": "markdown",
   "metadata": {},
   "source": [
    "### Test Case 2-1:\n",
    "\n",
    "### Test Case 2-2:\n",
    "\n",
    "### Test Case 2-3:\n",
    "\n",
    "## Explanation:"
   ]
  },
  {
   "cell_type": "code",
   "execution_count": null,
   "metadata": {
    "collapsed": true
   },
   "outputs": [],
   "source": []
  },
  {
   "cell_type": "code",
   "execution_count": null,
   "metadata": {
    "collapsed": true
   },
   "outputs": [],
   "source": []
  }
 ],
 "metadata": {
  "kernelspec": {
   "display_name": "Python [Root]",
   "language": "python",
   "name": "Python [Root]"
  },
  "language_info": {
   "codemirror_mode": {
    "name": "ipython",
    "version": 2
   },
   "file_extension": ".py",
   "mimetype": "text/x-python",
   "name": "python",
   "nbconvert_exporter": "python",
   "pygments_lexer": "ipython2",
   "version": "2.7.12"
  }
 },
 "nbformat": 4,
 "nbformat_minor": 0
}
