{
 "cells": [
  {
   "cell_type": "markdown",
   "metadata": {},
   "source": [
    "# Technical Interview Practice - Python\n",
    "\n",
    "August 2017, by Jude Moon\n",
    "\n",
    "# Practice Overview\n",
    "\n",
    "For this practice, I will be given [five technical interviewing questions](https://classroom.udacity.com/nanodegrees/nd002/parts/19280355-b835-4ce4-b867-2c2e2e85d0a0/modules/07cc5d99-f81d-45df-af3b-9206dca1739d/lessons/7736707697239847/concepts/78912813390923) on a variety of topics discussed in the technical interviewing course. I will write the answers using Python code, as well as the explanations of the efficiency of the code and the design choices.\n",
    "\n",
    "***\n",
    "\n",
    "# Question 1.\n",
    "Given two strings s and t, determine whether some anagram of t is a substring of s. For example: if s = \"udacity\" and t = \"ad\", then the function returns True. Your function definition should look like: question1(s, t) and return a boolean True or False.\n",
    "\n",
    "## Understand the Question:\n",
    "\"anagram\" means a word, phrase, or name formed by **rearranging** the letters of another, using all the original letters **once**. From the example of s = \"udacity\", the input of t = \"aad\" should return False because t uses \"a\" twice. But inputting s = \"apple\" and t = \"pp\" should return True because t uses original letters once.\n",
    "\n",
    "Some of odd cases such as empty string or null needs to be defined to return error messages.\n",
    "- return error if two arguments are not string.\n",
    "- return error if the length of the subject string (the first argument) is zero or smaller than anagramed string (the second argument). \n",
    "\n",
    "## Answer Code:"
   ]
  },
  {
   "cell_type": "code",
   "execution_count": 1,
   "metadata": {
    "collapsed": true
   },
   "outputs": [],
   "source": [
    "from time import time\n",
    "\n",
    "# helper procedure to search character list of t in the character list of s and\n",
    "# if any character of t list is not in the s list, return False\n",
    "def is_anagram(s, t):\n",
    "    \n",
    "    # conver all characters to lower case\n",
    "    s = s.lower()\n",
    "    t = t.lower()\n",
    "    \n",
    "    # convert string to list; each character of the string as element of the list\n",
    "    s_list = list(s)\n",
    "    t_list = list(t)\n",
    "    \n",
    "    # stop the loop and return False when any character of t is not shown in s\n",
    "    for char in t_list:\n",
    "        if char not in s_list:\n",
    "            return False\n",
    "            break\n",
    "        \n",
    "        s_list.remove(char) # to prevent from using the same letter more than once, \n",
    "                            # remove the letter from the list\n",
    "    return True\n",
    "\n",
    "# main procedure\n",
    "def question1(s, t):\n",
    "    \n",
    "    # if s is not string, return error message\n",
    "    if type(s) != str:\n",
    "        return \"Error: The first argument is not string!\"\n",
    "\n",
    "    # if t is not string, return error message\n",
    "    if type(t) != str:\n",
    "        return \"Error: The second argument is not string!\"\n",
    "    \n",
    "    # if the number of characters of s is zero or smaller than that of t, return error message\n",
    "    if len(s) == 0 or len(s) < len(t):\n",
    "        return \"Error: The string length of the first argument needs to be greater than that of the second argument!\"\n",
    "    \n",
    "    # if t is empty string, the answer should alwasy be True\n",
    "    if len(t) == 0:\n",
    "        return True\n",
    "    \n",
    "    if is_anagram(s, t):\n",
    "        return True\n",
    "    \n",
    "    return False"
   ]
  },
  {
   "cell_type": "markdown",
   "metadata": {},
   "source": [
    "### Test Case 1-1:"
   ]
  },
  {
   "cell_type": "code",
   "execution_count": 15,
   "metadata": {
    "collapsed": false
   },
   "outputs": [
    {
     "data": {
      "text/plain": [
       "True"
      ]
     },
     "execution_count": 15,
     "metadata": {},
     "output_type": "execute_result"
    }
   ],
   "source": [
    "s1 = \"udacity\"\n",
    "t1 = \"ad\"\n",
    "question1(s1, t1)"
   ]
  },
  {
   "cell_type": "code",
   "execution_count": 16,
   "metadata": {
    "collapsed": false
   },
   "outputs": [
    {
     "data": {
      "text/plain": [
       "True"
      ]
     },
     "execution_count": 16,
     "metadata": {},
     "output_type": "execute_result"
    }
   ],
   "source": [
    "t2 = \"cityuda\"\n",
    "question1(s1, t2)"
   ]
  },
  {
   "cell_type": "markdown",
   "metadata": {},
   "source": [
    "### Test Case 1-2:"
   ]
  },
  {
   "cell_type": "code",
   "execution_count": 17,
   "metadata": {
    "collapsed": false
   },
   "outputs": [
    {
     "data": {
      "text/plain": [
       "True"
      ]
     },
     "execution_count": 17,
     "metadata": {},
     "output_type": "execute_result"
    }
   ],
   "source": [
    "# Empty string for anagram\n",
    "t3 = \"\"\n",
    "question1(s1, t3)"
   ]
  },
  {
   "cell_type": "code",
   "execution_count": 18,
   "metadata": {
    "collapsed": false
   },
   "outputs": [
    {
     "data": {
      "text/plain": [
       "'Error: The second argument is not string!'"
      ]
     },
     "execution_count": 18,
     "metadata": {},
     "output_type": "execute_result"
    }
   ],
   "source": [
    "# Null anagram\n",
    "t4 = None\n",
    "question1(s1, t4)"
   ]
  },
  {
   "cell_type": "markdown",
   "metadata": {},
   "source": [
    "### Test Case 1-3:"
   ]
  },
  {
   "cell_type": "code",
   "execution_count": 19,
   "metadata": {
    "collapsed": false
   },
   "outputs": [
    {
     "name": "stdout",
     "output_type": "stream",
     "text": [
      "False\n",
      "\n",
      "This took 0.00100017 seconds\n",
      "\n"
     ]
    }
   ],
   "source": [
    "start = time()\n",
    "t5 = \"uuda\"\n",
    "\n",
    "print question1(s1, t5)\n",
    "print \"\\nThis took %.8f seconds\\n\" %(time() - start)"
   ]
  },
  {
   "cell_type": "code",
   "execution_count": 20,
   "metadata": {
    "collapsed": false
   },
   "outputs": [
    {
     "name": "stdout",
     "output_type": "stream",
     "text": [
      "False\n",
      "\n",
      "This took 0.00000000 seconds\n",
      "\n"
     ]
    }
   ],
   "source": [
    "start = time()\n",
    "s2 = \"University\"\n",
    "t6 = \"universe\"\n",
    "\n",
    "print question1(s2, t6)\n",
    "print \"\\nThis took %.8f seconds\\n\" %(time() - start)"
   ]
  },
  {
   "cell_type": "code",
   "execution_count": 21,
   "metadata": {
    "collapsed": false
   },
   "outputs": [
    {
     "name": "stdout",
     "output_type": "stream",
     "text": [
      "True\n",
      "\n",
      "This took 0.11600018 seconds\n",
      "\n"
     ]
    }
   ],
   "source": [
    "start = time()\n",
    "s3 = \"udacity\"*1000\n",
    "t7 = \"ad\"*1000\n",
    "\n",
    "print question1(s3, t7)\n",
    "print \"\\nThis took %.8f seconds\\n\" %(time() - start)"
   ]
  },
  {
   "cell_type": "markdown",
   "metadata": {},
   "source": [
    "## Explanation:\n",
    "\n",
    "My choice of the data structure to solve this question was list, which was treated as indexed array. The python built-in function, list() allowed to convert each character of a string to each element of a list. And each element of anagram (t) list was iterated in the for-loop and then was searched if the element appears in the subject (s) list in the if-statement. Therefore, the time efficiency and space complexity of worst case would be O(len(t) + len(s)). The output was generated only one time. So the O notation would be **O(len(t) + len(s) + 1)**.\n",
    "\n",
    "***\n",
    "\n",
    "# Question 2.\n",
    "Given a string a, find the longest palindromic substring contained in a. Your function definition should look like question2(a), and return a string.\n",
    "\n",
    "\n",
    "## Understand the Question:\n",
    "\n",
    "\"palindrome\" is a word, phrase, number, or other sequence of characters which reads the same backward as forward, such as madam or racecar. And the question is to answer longest palindromic substring. For example, the procedure with the input of 'ababa' will return 'ababa', not 'aba'.\n",
    "\n",
    "Some of odd cases such as empty string or null needs to be defined.\n",
    "- return the original input if the length of the string is zero or smaller than 2. \n",
    "- return error if the argument is not string.\n",
    "\n",
    "## Answer Code:"
   ]
  },
  {
   "cell_type": "code",
   "execution_count": 27,
   "metadata": {
    "collapsed": true
   },
   "outputs": [],
   "source": [
    "# helper procedure to find palindroms by looking at all of \n",
    "# possible substrings and checking them individually\n",
    "def longest_palindrome(a):\n",
    "    \n",
    "    a = a.lower() # conver all characters to lower case\n",
    "    \n",
    "    longest = \"\"\n",
    "    for i in range(len(a)):\n",
    "        for j in range(0, i):\n",
    "            substring = a[j:i + 1] # get every possible substring\n",
    "            if substring == substring[::-1]: # [::-1] sorts elements reversely\n",
    "                if len(substring) > len(longest):\n",
    "                    longest = substring\n",
    "    \n",
    "    if longest:\n",
    "        return longest\n",
    "    \n",
    "    return None # if there is no palindrome, return None\n",
    "\n",
    "\n",
    "# main procedure\n",
    "def question2(a):\n",
    "    # if a is not string, return error message\n",
    "    if type(a) != str:\n",
    "        return \"Error: a not string!\"\n",
    "    \n",
    "    # if the length of a is zero or smaller than 2, return a as it is\n",
    "    if len(a) < 2:\n",
    "        return a\n",
    "    \n",
    "    return longest_palindrome(a)\n",
    "        "
   ]
  },
  {
   "cell_type": "markdown",
   "metadata": {},
   "source": [
    "### Test Case 2-1:"
   ]
  },
  {
   "cell_type": "code",
   "execution_count": 28,
   "metadata": {
    "collapsed": false
   },
   "outputs": [
    {
     "data": {
      "text/plain": [
       "'abcbabcba'"
      ]
     },
     "execution_count": 28,
     "metadata": {},
     "output_type": "execute_result"
    }
   ],
   "source": [
    "question2('ABCBAbcba')"
   ]
  },
  {
   "cell_type": "code",
   "execution_count": 29,
   "metadata": {
    "collapsed": false
   },
   "outputs": [
    {
     "data": {
      "text/plain": [
       "'ai4ojajo4ia'"
      ]
     },
     "execution_count": 29,
     "metadata": {},
     "output_type": "execute_result"
    }
   ],
   "source": [
    "question2(\"AbcbaI4ojajo4iaj8aoa8jA\")"
   ]
  },
  {
   "cell_type": "markdown",
   "metadata": {},
   "source": [
    "### Test Case 2-2:"
   ]
  },
  {
   "cell_type": "code",
   "execution_count": 30,
   "metadata": {
    "collapsed": false
   },
   "outputs": [
    {
     "data": {
      "text/plain": [
       "'Error: a not string!'"
      ]
     },
     "execution_count": 30,
     "metadata": {},
     "output_type": "execute_result"
    }
   ],
   "source": [
    "# Null string case\n",
    "question2(None)"
   ]
  },
  {
   "cell_type": "code",
   "execution_count": 31,
   "metadata": {
    "collapsed": false
   },
   "outputs": [
    {
     "data": {
      "text/plain": [
       "''"
      ]
     },
     "execution_count": 31,
     "metadata": {},
     "output_type": "execute_result"
    }
   ],
   "source": [
    "# Empty string case\n",
    "question2(\"\")"
   ]
  },
  {
   "cell_type": "code",
   "execution_count": 32,
   "metadata": {
    "collapsed": false
   },
   "outputs": [
    {
     "data": {
      "text/plain": [
       "'a'"
      ]
     },
     "execution_count": 32,
     "metadata": {},
     "output_type": "execute_result"
    }
   ],
   "source": [
    "# One letter string case\n",
    "question2(\"a\")"
   ]
  },
  {
   "cell_type": "markdown",
   "metadata": {},
   "source": [
    "### Test Case 2-3:"
   ]
  },
  {
   "cell_type": "code",
   "execution_count": null,
   "metadata": {
    "collapsed": false
   },
   "outputs": [],
   "source": [
    "start = time()\n",
    "a1 = \"udacity\"\n",
    "print question2(a1)\n",
    "print \"\\nThis took %.8f seconds\\n\" %(time() - start)"
   ]
  },
  {
   "cell_type": "code",
   "execution_count": 41,
   "metadata": {
    "collapsed": false
   },
   "outputs": [
    {
     "name": "stdout",
     "output_type": "stream",
     "text": [
      "aaaaa\n",
      "\n",
      "This took 0.00100017 seconds\n",
      "\n"
     ]
    }
   ],
   "source": [
    "start = time()\n",
    "a2 = \"udaaaaacity\"\n",
    "print question2(a2)\n",
    "print \"\\nThis took %.8f seconds\\n\" %(time() - start)"
   ]
  },
  {
   "cell_type": "code",
   "execution_count": null,
   "metadata": {
    "collapsed": false
   },
   "outputs": [],
   "source": [
    "start = time()\n",
    "print question2(a2*1000)\n",
    "print \"\\nThis took %.8f seconds\\n\" %(time() - start)"
   ]
  },
  {
   "cell_type": "markdown",
   "metadata": {},
   "source": [
    "## Explanation:\n",
    "\n",
    "My choice of the data structure to solve this question was string, which was treated as indexed array. The input string was manipulated using index system to create sub-string and sort reversely. I used two for-loops to iterate every possible substring and each loop will consume len(a) times or n times of time and space. The output was created as emtpy string first, updated each time iteration, and returned at the end of the procedure. The time efficiency and space complexity of worst case would be **O(n<sup>2</sup> + 3)**.\n",
    "\n",
    "***\n",
    "\n",
    "# Question 3.\n",
    "Given an undirected graph G, find the minimum spanning tree within G. A minimum spanning tree connects all vertices in a graph with the smallest possible total weight of edges. Your function should take in and return an adjacency list structured like this:\n",
    "\n",
    ">{'A': [('B', 2)],\n",
    "\n",
    "> 'B': [('A', 2), ('C', 5)], \n",
    "\n",
    "> 'C': [('B', 5)]}\n",
    " \n",
    "Vertices are represented as unique strings. The function definition should be question3(G)\n",
    "\n",
    "## Understand the Question:\n",
    "\n",
    "A minimum spanning tree (MST) or minimum weight spanning tree is a subset of the edges of a connected, edge-weighted undirected graph that connects all the vertices together, without any cycles and with the minimum possible total edge weight.\n",
    "\n",
    "Kruskal Algorithm builds the spanning tree by adding edges one by one into a growing spanning tree. \n",
    "\n",
    "Pseudocode\n",
    "\n",
    "KRUSKAL(G):\n",
    "1. A = ∅\n",
    "2. foreach v ∈ G.V:\n",
    "3.    MAKE-SET(v)\n",
    "4. foreach (u, v) in G.E ordered by weight(u, v), increasing:\n",
    "5.    if FIND-SET(u) ≠ FIND-SET(v):\n",
    "6.       A = A ∪ {(u, v)}\n",
    "7.       UNION(u, v)\n",
    "8. return A\n",
    "\n",
    "Some of odd cases such as empty dictionary or null needs to be defined.\n",
    "- return the original input if the length of the string is zero or smaller than 2. \n",
    "- return error if the argument is not dictionary.\n",
    "\n",
    "\n",
    "## Answer Code:"
   ]
  },
  {
   "cell_type": "code",
   "execution_count": 42,
   "metadata": {
    "collapsed": true
   },
   "outputs": [],
   "source": [
    "# declare global variables 'parent' and 'rank' which are used in all procedures\n",
    "# parent stores a root of each node and will be updated when unified two disjoint sets\n",
    "# rank is used to compare the number of nodes in two disjoint sets \n",
    "parent = {}\n",
    "rank = {}\n",
    "\n",
    "# helper procedure to find the root node which this vertex belongs, \n",
    "# using recursive definition; \n",
    "# base case is parent[vertex] == vertex, where itself is the root\n",
    "# recursive case is parent[vertex] != vertex\n",
    "def find_root(vertex):\n",
    "    if parent[vertex] != vertex:  \n",
    "        parent[vertex] = find_root(parent[vertex])\n",
    "    return parent[vertex]\n",
    "\n",
    "# helper procedure to unify the sets by comparing their root nodes and rank \n",
    "def union(vertex1, vertex2):\n",
    "    root1 = find_root(vertex1)\n",
    "    root2 = find_root(vertex2)\n",
    "    if rank[root1] > rank[root2]:\n",
    "        parent[root2] = root1\n",
    "    else:\n",
    "        parent[root1] = root2\n",
    "        if rank[root1] == rank[root2]: \n",
    "            rank[root2] += 1\n",
    "\n",
    "# main procedure\n",
    "def question3(G):\n",
    "    \n",
    "    # if G is not dictionary, return error message\n",
    "    if type(G) != dict:\n",
    "        return \"Error: G is not dictionary!\"\n",
    "    \n",
    "    # if the length of G is zero or smaller than 2, return G as it is\n",
    "    if len(G) < 2:\n",
    "        return G\n",
    "    \n",
    "    ### perform kruskal algorithm to find MST ###\n",
    "    \n",
    "    # step1: initialize disjoint sets  \n",
    "    vertices = G.keys() # collect vertices\n",
    "    for vertex in vertices:\n",
    "        parent[vertex] = vertex # the parent value of the key is set to itself\n",
    "        rank[vertex] = 0 # the rank value is set to 0, meaning 0 union occurrence\n",
    "    \n",
    "        \n",
    "    # step2: get list of unique edges\n",
    "    # each edge consists of 3 element-tuple, (vertex1, vertex2, edge_weight)\n",
    "    # vertex1 is always alphabetically earlier than vertex2\n",
    "    edges = []\n",
    "    for vertex in vertices:\n",
    "        for connections in G[vertex]:\n",
    "            if vertex < connections[0]:\n",
    "                edges.append((vertex, connections[0], connections[1]))\n",
    "                \n",
    "    # step3: sort edges by increasing edge_weight\n",
    "    edges = sorted(edges, key=lambda x : x[2])\n",
    "    \n",
    "    # step4: find and compare roots of vertex1 and vertex2,\n",
    "    # and if the roots are different, unify disjoint sets containing vertex1 and vertex2,\n",
    "    # by updating rank of the roots and add the edge to MST set\n",
    "    MST = set() # a set is an unordered collection with no duplicate elements\n",
    "    for edge in edges:\n",
    "        if find_root(edge[0]) != find_root(edge[1]): \n",
    "            union(edge[0], edge[1])\n",
    "            MST.add(edge)\n",
    "    \n",
    "    # MST set into the dictionary of adjacency list\n",
    "    output = {}\n",
    "    for node in MST:\n",
    "        if  node[0] in output:\n",
    "            output[node[0]].append((node[1], node[2]))\n",
    "        else:\n",
    "            output[node[0]] = [(node[1], node[2])]\n",
    "        if node[1] in output:\n",
    "            output[node[1]].append((node[0], node[2]))\n",
    "        else:\n",
    "            output[node[1]] = [(node[0], node[2])]\n",
    "            \n",
    "    return output"
   ]
  },
  {
   "cell_type": "markdown",
   "metadata": {},
   "source": [
    "### Test Case 2-1:"
   ]
  },
  {
   "cell_type": "code",
   "execution_count": 43,
   "metadata": {
    "collapsed": false
   },
   "outputs": [
    {
     "data": {
      "text/plain": [
       "{'A': [('B', 2)], 'B': [('A', 2), ('C', 5)], 'C': [('B', 5)]}"
      ]
     },
     "execution_count": 43,
     "metadata": {},
     "output_type": "execute_result"
    }
   ],
   "source": [
    "G1 = {'A': [('B', 2)],\n",
    "      'B': [('A', 2), ('C', 5)], \n",
    "      'C': [('B', 5)]}\n",
    "\n",
    "question3(G1) "
   ]
  },
  {
   "cell_type": "markdown",
   "metadata": {},
   "source": [
    "### Test Case 2-2:"
   ]
  },
  {
   "cell_type": "code",
   "execution_count": 45,
   "metadata": {
    "collapsed": false
   },
   "outputs": [
    {
     "data": {
      "text/plain": [
       "'Error: G is not dictionary!'"
      ]
     },
     "execution_count": 45,
     "metadata": {},
     "output_type": "execute_result"
    }
   ],
   "source": [
    "# Null dictionary case\n",
    "G3 = None\n",
    "question3(G3)"
   ]
  },
  {
   "cell_type": "code",
   "execution_count": 46,
   "metadata": {
    "collapsed": false
   },
   "outputs": [
    {
     "data": {
      "text/plain": [
       "{}"
      ]
     },
     "execution_count": 46,
     "metadata": {},
     "output_type": "execute_result"
    }
   ],
   "source": [
    "# Empty dictionary case\n",
    "G4 = {}\n",
    "question3(G4) # expect {}"
   ]
  },
  {
   "cell_type": "code",
   "execution_count": 47,
   "metadata": {
    "collapsed": false
   },
   "outputs": [
    {
     "data": {
      "text/plain": [
       "{'A': []}"
      ]
     },
     "execution_count": 47,
     "metadata": {},
     "output_type": "execute_result"
    }
   ],
   "source": [
    "# One node dictionary case\n",
    "G5 = {'A': []}\n",
    "question3(G5) # expect {}"
   ]
  },
  {
   "cell_type": "markdown",
   "metadata": {},
   "source": [
    "### Test Case 2-3:"
   ]
  },
  {
   "cell_type": "code",
   "execution_count": 51,
   "metadata": {
    "collapsed": false
   },
   "outputs": [
    {
     "name": "stdout",
     "output_type": "stream",
     "text": [
      "{'A': [('B', 1)],\n",
      " 'B': [('C', 5), ('D', 3), ('A', 1)],\n",
      " 'C': [('B', 5)],\n",
      " 'D': [('E', 2), ('B', 3)],\n",
      " 'E': [('D', 2)]}\n",
      "\n",
      "This took 0.00199986 seconds\n",
      "\n"
     ]
    }
   ],
   "source": [
    "import pprint\n",
    "start = time()\n",
    "G2 = {'A': [('B', 1), ('C', 7)],\n",
    "     'B': [('A', 1), ('C', 5), ('D', 3), ('E', 4)],\n",
    "     'C': [('A', 7), ('B', 5), ('D', 6)],\n",
    "     'D': [('B', 3), ('C', 6), ('E', 2)],\n",
    "     'E': [('B', 4), ('D', 2)]}\n",
    "\n",
    "pprint.pprint(question3(G2))\n",
    "print \"\\nThis took %.8f seconds\\n\" %(time() - start)"
   ]
  },
  {
   "cell_type": "code",
   "execution_count": 50,
   "metadata": {
    "collapsed": false
   },
   "outputs": [
    {
     "name": "stdout",
     "output_type": "stream",
     "text": [
      "{'A': [('D', 5), ('B', 7)],\n",
      " 'B': [('E', 7), ('A', 7)],\n",
      " 'C': [('E', 5)],\n",
      " 'D': [('A', 5), ('F', 6)],\n",
      " 'E': [('B', 7), ('G', 9), ('C', 5)],\n",
      " 'F': [('D', 6)],\n",
      " 'G': [('E', 9)]}\n",
      "\n",
      "This took 0.00499988 seconds\n",
      "\n"
     ]
    }
   ],
   "source": [
    "start = time()\n",
    "G6 = {'A': [('B', 7), ('D', 5)],\n",
    "      'B': [('A', 7), ('C', 8), ('D', 9), ('E', 7)],\n",
    "      'C': [('B', 8), ('E', 5)],\n",
    "      'D': [('A', 5), ('B', 9), ('E', 15), ('F', 6)],\n",
    "      'E': [('B', 7), ('C', 5), ('D', 15), ('F', 8), ('G', 9)],\n",
    "      'F': [('D', 6), ('E', 8), ('G', 11)],\n",
    "      'G': [('E', 9), ('F', 11)]}\n",
    "\n",
    "pprint.pprint(question3(G6)) \n",
    "print \"\\nThis took %.8f seconds\\n\" %(time() - start)"
   ]
  },
  {
   "cell_type": "markdown",
   "metadata": {},
   "source": [
    "## Explanation:\n",
    "\n",
    "My choices of the data structure to solve this question were dictionaries and lists, which were treated as indexed array. \n",
    "G is graph input; V is vertices; E is edges\n",
    "\n",
    "- step1: initialize disjoint sets; O(len(G)) or O(len(\n",
    "- step2: get list of unique edges\n",
    "- step3: sort edges by increasing edge_weight\n",
    "- step4: find and compare roots of vertex1 and vertex2, and if the roots are different, unify disjoint sets containing vertex1 and vertex2, by updating rank of the roots and add the edge to MST set\n",
    "- MST set into the dictionary of adjacency list\n",
    "\n",
    "First, generate list of edges will take O(E) time and O(E) space. Second, sort the edges by weight will take O(Elog(E)) time and O(E) space. Third, loop through each edges, find the indices, and merge sets will take worst case O(E*V) time and O(V) space. Lastly, we have to convert the edges back to the required output graph structure that will take O(E) time and O(V) space. Overall my algorithm will take O(E*V) time and O(E) space. However, the overall time complexity can be further reduced to O(E*log(V)) time with \"disjoint-set data structure\".\n",
    "\n",
    "\n",
    "***\n",
    "\n",
    "# Question 4.\n",
    "Find the least common ancestor between two nodes on a binary search tree. The least common ancestor is the farthest node from the root that is an ancestor of both nodes. For example, the root is a common ancestor of all nodes on the tree, but if both nodes are descendents of the root's left child, then that left child might be the lowest common ancestor. You can assume that both nodes are in the tree, and the tree itself adheres to all BST properties. The function definition should look like question4(T, r, n1, n2), where T is the tree represented as a matrix, where the index of the list is equal to the integer stored in that node and a 1 represents a child node, r is a non-negative integer representing the root, and n1 and n2 are non-negative integers representing the two nodes in no particular order. For example, one test case might be\n",
    "\n",
    "question4([[0, 1, 0, 0, 0],\n",
    "           [0, 0, 0, 0, 0],\n",
    "           [0, 0, 0, 0, 0],\n",
    "           [1, 0, 0, 0, 1],\n",
    "           [0, 0, 0, 0, 0]],\n",
    "          3,\n",
    "          1,\n",
    "          4)\n",
    "and the answer would be 3.\n",
    "\n",
    "## Understand the Question:\n",
    "\n",
    "## Answer Code:"
   ]
  },
  {
   "cell_type": "markdown",
   "metadata": {},
   "source": [
    "### Test Case 2-1:\n",
    "\n",
    "### Test Case 2-2:\n",
    "\n",
    "### Test Case 2-3:\n",
    "\n",
    "## Explanation:\n",
    "\n",
    "***\n",
    "\n",
    "# Question 5.\n",
    "Find the element in a singly linked list that's m elements from the end. For example, if a linked list has 5 elements, the 3rd element from the end is the 3rd element. The function definition should look like question5(ll, m), where ll is the first node of a linked list and m is the \"mth number from the end\". You should copy/paste the Node class below to use as a representation of a node in the linked list. Return the value of the node at that position.\n",
    "\n",
    "class Node(object):\n",
    "  def __init__(self, data):\n",
    "    self.data = data\n",
    "    self.next = None\n",
    "    \n",
    "    \n",
    "## Understand the Question:\n",
    "\n",
    "## Answer Code:\n",
    "\n",
    "### Test Case 2-1:\n",
    "\n",
    "### Test Case 2-2:\n",
    "\n",
    "### Test Case 2-3:\n",
    "\n",
    "## Explanation:"
   ]
  },
  {
   "cell_type": "code",
   "execution_count": null,
   "metadata": {
    "collapsed": true
   },
   "outputs": [],
   "source": []
  },
  {
   "cell_type": "code",
   "execution_count": null,
   "metadata": {
    "collapsed": true
   },
   "outputs": [],
   "source": []
  }
 ],
 "metadata": {
  "kernelspec": {
   "display_name": "Python [Root]",
   "language": "python",
   "name": "Python [Root]"
  },
  "language_info": {
   "codemirror_mode": {
    "name": "ipython",
    "version": 2
   },
   "file_extension": ".py",
   "mimetype": "text/x-python",
   "name": "python",
   "nbconvert_exporter": "python",
   "pygments_lexer": "ipython2",
   "version": "2.7.12"
  }
 },
 "nbformat": 4,
 "nbformat_minor": 0
}
