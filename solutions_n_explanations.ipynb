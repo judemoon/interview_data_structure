{
 "cells": [
  {
   "cell_type": "markdown",
   "metadata": {},
   "source": [
    "# Technical Interview Practice - Python\n",
    "\n",
    "August 2017, by Jude Moon\n",
    "\n",
    "# Practice Overview\n",
    "\n",
    "For this practice, I will be given [five technical interviewing questions](https://classroom.udacity.com/nanodegrees/nd002/parts/19280355-b835-4ce4-b867-2c2e2e85d0a0/modules/07cc5d99-f81d-45df-af3b-9206dca1739d/lessons/7736707697239847/concepts/78912813390923) on a variety of topics discussed in the technical interviewing course. I will write the answers using Python code, as well as the explanations of the efficiency of the code and the design choices.\n",
    "\n",
    "***\n",
    "\n",
    "# Question 1.\n",
    "Given two strings s and t, determine whether some anagram of t is a substring of s. For example: if s = \"udacity\" and t = \"ad\", then the function returns True. Your function definition should look like: question1(s, t) and return a boolean True or False.\n",
    "\n",
    "## Understand the Question:\n",
    "\"anagram\" means a word, phrase, or name formed by **rearranging** the letters of another, using all the original letters **once**. From the example of s = \"udacity\", the input of t = \"aad\" should return False because t uses \"a\" twice. But inputting s = \"apple\" and t = \"pp\" should return True because t uses original letters once.\n",
    "\n",
    "Some of odd cases such as empty string or null needs to be defined to return error messages.\n",
    "- return error if two arguments are not string.\n",
    "- return error if the length of the subject string (the first argument) is zero or smaller than anagramed string (the second argument). \n",
    "\n",
    "## Answer Code:"
   ]
  },
  {
   "cell_type": "code",
   "execution_count": 65,
   "metadata": {
    "collapsed": true
   },
   "outputs": [],
   "source": [
    "from time import time\n",
    "\n",
    "# helper procedure to search character list of t in the character list of s and\n",
    "# if any character of t list is not in the s list, return False\n",
    "def is_anagram(s, t):\n",
    "    \n",
    "    # conver all characters to lower case\n",
    "    s = s.lower()\n",
    "    t = t.lower()\n",
    "    \n",
    "    # convert string to list; each character of the string as element of the list\n",
    "    s_list = list(s)\n",
    "    t_list = list(t)\n",
    "    \n",
    "    # stop the loop and return False when any character of t is not shown in s\n",
    "    for char in t_list:\n",
    "        if char not in s_list:\n",
    "            return False\n",
    "            break\n",
    "        \n",
    "        s_list.remove(char) # to prevent from using the same letter more than once, \n",
    "                            # remove the letter from the list\n",
    "    return True\n",
    "\n",
    "# main procedure\n",
    "def question1(s, t):\n",
    "    \n",
    "    # if s is not string, return error message\n",
    "    if type(s) != str:\n",
    "        return \"Error: The first argument is not string!\"\n",
    "\n",
    "    # if t is not string, return error message\n",
    "    if type(t) != str:\n",
    "        return \"Error: The second argument is not string!\"\n",
    "    \n",
    "    # if the number of characters of s is zero or smaller than that of t, return error message\n",
    "    if len(s) == 0 or len(s) < len(t):\n",
    "        return \"Error: The string length of the first argument needs to be greater than that of the second argument!\"\n",
    "    \n",
    "    # if t is empty string, the answer should alwasy be True\n",
    "    if len(t) == 0:\n",
    "        return True\n",
    "    \n",
    "    if is_anagram(s, t):\n",
    "        return True\n",
    "    \n",
    "    return False"
   ]
  },
  {
   "cell_type": "markdown",
   "metadata": {},
   "source": [
    "### Test Case 1-1:"
   ]
  },
  {
   "cell_type": "code",
   "execution_count": 66,
   "metadata": {
    "collapsed": false
   },
   "outputs": [
    {
     "data": {
      "text/plain": [
       "True"
      ]
     },
     "execution_count": 66,
     "metadata": {},
     "output_type": "execute_result"
    }
   ],
   "source": [
    "s1 = \"udacity\"\n",
    "t1 = \"ad\"\n",
    "question1(s1, t1)"
   ]
  },
  {
   "cell_type": "code",
   "execution_count": 67,
   "metadata": {
    "collapsed": false
   },
   "outputs": [
    {
     "data": {
      "text/plain": [
       "True"
      ]
     },
     "execution_count": 67,
     "metadata": {},
     "output_type": "execute_result"
    }
   ],
   "source": [
    "t2 = \"cityuda\"\n",
    "question1(s1, t2)"
   ]
  },
  {
   "cell_type": "markdown",
   "metadata": {},
   "source": [
    "### Test Case 1-2:"
   ]
  },
  {
   "cell_type": "code",
   "execution_count": 68,
   "metadata": {
    "collapsed": false
   },
   "outputs": [
    {
     "data": {
      "text/plain": [
       "True"
      ]
     },
     "execution_count": 68,
     "metadata": {},
     "output_type": "execute_result"
    }
   ],
   "source": [
    "# Empty string for anagram\n",
    "t3 = \"\"\n",
    "question1(s1, t3)"
   ]
  },
  {
   "cell_type": "code",
   "execution_count": 69,
   "metadata": {
    "collapsed": false
   },
   "outputs": [
    {
     "data": {
      "text/plain": [
       "'Error: The second argument is not string!'"
      ]
     },
     "execution_count": 69,
     "metadata": {},
     "output_type": "execute_result"
    }
   ],
   "source": [
    "# Null anagram\n",
    "t4 = None\n",
    "question1(s1, t4)"
   ]
  },
  {
   "cell_type": "markdown",
   "metadata": {},
   "source": [
    "### Test Case 1-3:"
   ]
  },
  {
   "cell_type": "code",
   "execution_count": 70,
   "metadata": {
    "collapsed": false
   },
   "outputs": [
    {
     "name": "stdout",
     "output_type": "stream",
     "text": [
      "False\n",
      "\n",
      "This took 0.00000000 seconds\n",
      "\n"
     ]
    }
   ],
   "source": [
    "start = time()\n",
    "t5 = \"uuda\"\n",
    "\n",
    "print question1(s1, t5)\n",
    "print \"\\nThis took %.8f seconds\\n\" %(time() - start)"
   ]
  },
  {
   "cell_type": "code",
   "execution_count": 71,
   "metadata": {
    "collapsed": false
   },
   "outputs": [
    {
     "name": "stdout",
     "output_type": "stream",
     "text": [
      "False\n",
      "\n",
      "This took 0.00000000 seconds\n",
      "\n"
     ]
    }
   ],
   "source": [
    "start = time()\n",
    "s2 = \"University\"\n",
    "t6 = \"universe\"\n",
    "\n",
    "print question1(s2, t6)\n",
    "print \"\\nThis took %.8f seconds\\n\" %(time() - start)"
   ]
  },
  {
   "cell_type": "code",
   "execution_count": 72,
   "metadata": {
    "collapsed": false
   },
   "outputs": [
    {
     "name": "stdout",
     "output_type": "stream",
     "text": [
      "True\n",
      "\n",
      "This took 0.12400007 seconds\n",
      "\n"
     ]
    }
   ],
   "source": [
    "start = time()\n",
    "s3 = \"udacity\"*1000\n",
    "t7 = \"ad\"*1000\n",
    "\n",
    "print question1(s3, t7)\n",
    "print \"\\nThis took %.8f seconds\\n\" %(time() - start)"
   ]
  },
  {
   "cell_type": "markdown",
   "metadata": {},
   "source": [
    "## Explanation:\n",
    "\n",
    "My choice of the data structure to solve this question was indexed list like array. The python built-in function, list() allowed to convert each character of a string to each element of a list. And each element of anagram (t) list was iterated in the for-loop and then was searched if the element appears in the subject (s) list in the if-statement. Therefore, the time efficiency and space complexity of worst case would be O(len(t)\\*len(s)). The output was generated only one time. So the O notation would be **O(len(t)\\*len(s) + 1)**.\n",
    "\n",
    "***\n",
    "\n",
    "# Question 2.\n",
    "Given a string a, find the longest palindromic substring contained in a. Your function definition should look like question2(a), and return a string.\n",
    "\n",
    "Some of odd cases such as empty string or null needs to be defined to return error messages.\n",
    "- return error if two arguments are not string.\n",
    "- return error if the length of the subject string (the first argument) is zero or smaller than anagramed string (the second argument). \n",
    "\n",
    "## Understand the Question:\n",
    "\n",
    "\"palindrome\" is a word, phrase, number, or other sequence of characters which reads the same backward as forward, such as madam or racecar.\n",
    "\n",
    "## Answer Code:"
   ]
  },
  {
   "cell_type": "code",
   "execution_count": 130,
   "metadata": {
    "collapsed": true
   },
   "outputs": [],
   "source": [
    "# find palindroms by looking at all of the possible substrings and checking them individually\n",
    "def longest_palindrome(a):\n",
    "    \n",
    "    a = a.lower() # conver all characters to lower case\n",
    "    \n",
    "    palindromes = [] \n",
    "    for i in range(len(a)):\n",
    "        for j in range(0, i):\n",
    "            chunk = a[j:i + 1] # get every possible substring\n",
    "            if chunk == chunk[::-1]: # [::-1] sorts elements reversely\n",
    "                palindromes.append(chunk)\n",
    "\n",
    "    if palindromes:\n",
    "        return max(palindromes, key=len) # return longest palindrome\n",
    "    else:\n",
    "        return None\n",
    "\n",
    "\n",
    "\n",
    "# main procedure\n",
    "def question2(a):\n",
    "    # if a is not string, return error message\n",
    "    if type(a) != str:\n",
    "        return \"Error: a not string!\"\n",
    "    \n",
    "    # if the length of a is zero or smaller than 2, return a as it is\n",
    "    if len(a) < 2:\n",
    "        return a\n",
    "    \n",
    "    return longest_palindrome(a)"
   ]
  },
  {
   "cell_type": "code",
   "execution_count": 184,
   "metadata": {
    "collapsed": true
   },
   "outputs": [],
   "source": [
    "# find palindroms by looking at all of the possible substrings and checking them individually\n",
    "def longest_palindrome(a):\n",
    "    \n",
    "    a = a.lower() # conver all characters to lower case\n",
    "    \n",
    "    longest = \"\"\n",
    "    for i in range(len(a)):\n",
    "        for j in range(0, i):\n",
    "            substring = a[j:i + 1] # get every possible substring\n",
    "            if substring == substring[::-1]: # [::-1] sorts elements reversely\n",
    "                if len(substring) > len(longest):\n",
    "                    longest = substring\n",
    "    \n",
    "    if longest:\n",
    "        return longest\n",
    "    \n",
    "    return None # if there is no palindrome, return None\n",
    "\n",
    "\n",
    "# main procedure\n",
    "def question2(a):\n",
    "    # if a is not string, return error message\n",
    "    if type(a) != str:\n",
    "        return \"Error: a not string!\"\n",
    "    \n",
    "    # if the length of a is zero or smaller than 2, return a as it is\n",
    "    if len(a) < 2:\n",
    "        return a\n",
    "    \n",
    "    return longest_palindrome(a)\n",
    "        "
   ]
  },
  {
   "cell_type": "markdown",
   "metadata": {},
   "source": [
    "### Test Case 2-1:"
   ]
  },
  {
   "cell_type": "code",
   "execution_count": 169,
   "metadata": {
    "collapsed": false
   },
   "outputs": [
    {
     "data": {
      "text/plain": [
       "'abcbabcba'"
      ]
     },
     "execution_count": 169,
     "metadata": {},
     "output_type": "execute_result"
    }
   ],
   "source": [
    "question2('abcbabcba')"
   ]
  },
  {
   "cell_type": "code",
   "execution_count": 170,
   "metadata": {
    "collapsed": false
   },
   "outputs": [
    {
     "data": {
      "text/plain": [
       "'ai4ojajo4ia'"
      ]
     },
     "execution_count": 170,
     "metadata": {},
     "output_type": "execute_result"
    }
   ],
   "source": [
    "question2(\"abcbai4ojajo4iaj8aoa8ja\")"
   ]
  },
  {
   "cell_type": "markdown",
   "metadata": {},
   "source": [
    "### Test Case 2-2:"
   ]
  },
  {
   "cell_type": "code",
   "execution_count": 171,
   "metadata": {
    "collapsed": false
   },
   "outputs": [
    {
     "data": {
      "text/plain": [
       "'Error: a not string!'"
      ]
     },
     "execution_count": 171,
     "metadata": {},
     "output_type": "execute_result"
    }
   ],
   "source": [
    "# Null string case\n",
    "question2(None)"
   ]
  },
  {
   "cell_type": "code",
   "execution_count": 188,
   "metadata": {
    "collapsed": false
   },
   "outputs": [
    {
     "data": {
      "text/plain": [
       "''"
      ]
     },
     "execution_count": 188,
     "metadata": {},
     "output_type": "execute_result"
    }
   ],
   "source": [
    "# Empty string case\n",
    "question2(\"\")"
   ]
  },
  {
   "cell_type": "code",
   "execution_count": 173,
   "metadata": {
    "collapsed": false
   },
   "outputs": [
    {
     "data": {
      "text/plain": [
       "'a'"
      ]
     },
     "execution_count": 173,
     "metadata": {},
     "output_type": "execute_result"
    }
   ],
   "source": [
    "# One letter string case\n",
    "question2(\"a\")"
   ]
  },
  {
   "cell_type": "markdown",
   "metadata": {},
   "source": [
    "### Test Case 2-3:"
   ]
  },
  {
   "cell_type": "code",
   "execution_count": 174,
   "metadata": {
    "collapsed": false
   },
   "outputs": [
    {
     "name": "stdout",
     "output_type": "stream",
     "text": [
      "None\n",
      "\n",
      "This took 0.00000000 seconds\n",
      "\n"
     ]
    }
   ],
   "source": [
    "start = time()\n",
    "a1 = \"udacity\"\n",
    "print question2(a1)\n",
    "print \"\\nThis took %.8f seconds\\n\" %(time() - start)"
   ]
  },
  {
   "cell_type": "code",
   "execution_count": 175,
   "metadata": {
    "collapsed": false
   },
   "outputs": [
    {
     "name": "stdout",
     "output_type": "stream",
     "text": [
      "aaaaa\n",
      "\n",
      "This took 0.00099993 seconds\n",
      "\n"
     ]
    }
   ],
   "source": [
    "start = time()\n",
    "a2 = \"udaaaaacity\"\n",
    "print question2(a2)\n",
    "print \"\\nThis took %.8f seconds\\n\" %(time() - start)"
   ]
  },
  {
   "cell_type": "code",
   "execution_count": 176,
   "metadata": {
    "collapsed": false
   },
   "outputs": [
    {
     "name": "stdout",
     "output_type": "stream",
     "text": [
      "aaaaa\n",
      "\n",
      "This took 0.45799994 seconds\n",
      "\n"
     ]
    }
   ],
   "source": [
    "start = time()\n",
    "print question2(a2*100)\n",
    "print \"\\nThis took %.8f seconds\\n\" %(time() - start)"
   ]
  },
  {
   "cell_type": "markdown",
   "metadata": {},
   "source": [
    "## Explanation:\n",
    "\n",
    "***\n",
    "\n",
    "# Question 3.\n",
    "Given an undirected graph G, find the minimum spanning tree within G. A minimum spanning tree connects all vertices in a graph with the smallest possible total weight of edges. Your function should take in and return an adjacency list structured like this:\n",
    "\n",
    "{'A': [('B', 2)],\n",
    " 'B': [('A', 2), ('C', 5)], \n",
    " 'C': [('B', 5)]}\n",
    " \n",
    "Vertices are represented as unique strings. The function definition should be question3(G)\n",
    "\n",
    "## Understand the Question:\n",
    "\n",
    "## Answer Code:\n",
    "\n",
    "### Test Case 2-1:\n",
    "\n",
    "### Test Case 2-2:\n",
    "\n",
    "### Test Case 2-3:\n",
    "\n",
    "## Explanation:\n",
    "\n",
    "***\n",
    "\n",
    "# Question 4.\n",
    "Find the least common ancestor between two nodes on a binary search tree. The least common ancestor is the farthest node from the root that is an ancestor of both nodes. For example, the root is a common ancestor of all nodes on the tree, but if both nodes are descendents of the root's left child, then that left child might be the lowest common ancestor. You can assume that both nodes are in the tree, and the tree itself adheres to all BST properties. The function definition should look like question4(T, r, n1, n2), where T is the tree represented as a matrix, where the index of the list is equal to the integer stored in that node and a 1 represents a child node, r is a non-negative integer representing the root, and n1 and n2 are non-negative integers representing the two nodes in no particular order. For example, one test case might be\n",
    "\n",
    "question4([[0, 1, 0, 0, 0],\n",
    "           [0, 0, 0, 0, 0],\n",
    "           [0, 0, 0, 0, 0],\n",
    "           [1, 0, 0, 0, 1],\n",
    "           [0, 0, 0, 0, 0]],\n",
    "          3,\n",
    "          1,\n",
    "          4)\n",
    "and the answer would be 3.\n",
    "\n",
    "## Understand the Question:\n",
    "\n",
    "## Answer Code:\n",
    "\n",
    "### Test Case 2-1:\n",
    "\n",
    "### Test Case 2-2:\n",
    "\n",
    "### Test Case 2-3:\n",
    "\n",
    "## Explanation:\n",
    "\n",
    "***\n",
    "\n",
    "# Question 5.\n",
    "Find the element in a singly linked list that's m elements from the end. For example, if a linked list has 5 elements, the 3rd element from the end is the 3rd element. The function definition should look like question5(ll, m), where ll is the first node of a linked list and m is the \"mth number from the end\". You should copy/paste the Node class below to use as a representation of a node in the linked list. Return the value of the node at that position.\n",
    "\n",
    "class Node(object):\n",
    "  def __init__(self, data):\n",
    "    self.data = data\n",
    "    self.next = None\n",
    "    \n",
    "    \n",
    "## Understand the Question:\n",
    "\n",
    "## Answer Code:\n",
    "\n",
    "### Test Case 2-1:\n",
    "\n",
    "### Test Case 2-2:\n",
    "\n",
    "### Test Case 2-3:\n",
    "\n",
    "## Explanation:"
   ]
  },
  {
   "cell_type": "code",
   "execution_count": null,
   "metadata": {
    "collapsed": true
   },
   "outputs": [],
   "source": []
  },
  {
   "cell_type": "code",
   "execution_count": null,
   "metadata": {
    "collapsed": true
   },
   "outputs": [],
   "source": []
  }
 ],
 "metadata": {
  "kernelspec": {
   "display_name": "Python [Root]",
   "language": "python",
   "name": "Python [Root]"
  },
  "language_info": {
   "codemirror_mode": {
    "name": "ipython",
    "version": 2
   },
   "file_extension": ".py",
   "mimetype": "text/x-python",
   "name": "python",
   "nbconvert_exporter": "python",
   "pygments_lexer": "ipython2",
   "version": "2.7.12"
  }
 },
 "nbformat": 4,
 "nbformat_minor": 0
}
