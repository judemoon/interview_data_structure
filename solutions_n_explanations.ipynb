{
 "cells": [
  {
   "cell_type": "markdown",
   "metadata": {},
   "source": [
    "# Technical Interview Practice - Python\n",
    "\n",
    "August 2017, by Jude Moon\n",
    "\n",
    "# Practice Overview\n",
    "\n",
    "For this practice, I will be given [five technical interviewing questions](https://classroom.udacity.com/nanodegrees/nd002/parts/19280355-b835-4ce4-b867-2c2e2e85d0a0/modules/07cc5d99-f81d-45df-af3b-9206dca1739d/lessons/7736707697239847/concepts/78912813390923) on a variety of topics discussed in the technical interviewing course. I will write the answers using Python code, as well as the explanations of the efficiency of the code and the design choices.\n",
    "\n",
    "# Question 1.\n",
    "Given two strings s and t, determine whether some anagram of t is a substring of s. For example: if s = \"udacity\" and t = \"ad\", then the function returns True. Your function definition should look like: question1(s, t) and return a boolean True or False.\n",
    "\n",
    "## Understand the Question:\n",
    "\"anagram\" means a word, phrase, or name formed by **rearranging** the letters of another, using all the original letters **once**. From the example of s = \"udacity\", the input of t = \"aad\" should return False because t uses \"a\" twice. But inputting s = \"apple\" and t = \"pp\" should return True because t uses original letters once.\n",
    "\n",
    "Some of odd cases such as empty string or null needs to be defined to return error messages.\n",
    "- return error if two arguments are not string.\n",
    "- return error if the length of the subject string (the first argument) is zero or smaller than anagramed string (the second argument). \n",
    "\n",
    "## Answer Code:"
   ]
  },
  {
   "cell_type": "code",
   "execution_count": 1,
   "metadata": {
    "collapsed": true
   },
   "outputs": [],
   "source": [
    "from time import time\n",
    "\n",
    "# helper procedure to search character list of t in the character list of s and\n",
    "# if any character of t list is not in the s list, return False\n",
    "def is_anagram(s, t):\n",
    "    \n",
    "    # conver all characters to lower case\n",
    "    s = s.lower()\n",
    "    t = t.lower()\n",
    "    \n",
    "    # convert string to list; each character of the string as element of the list\n",
    "    s_list = list(s)\n",
    "    t_list = list(t)\n",
    "    \n",
    "    # stop the loop and return False when any character of t is not shown in s\n",
    "    for char in t_list:\n",
    "        if char not in s_list:\n",
    "            return False\n",
    "            break\n",
    "        \n",
    "        s_list.remove(char) # to prevent from using the same letter more than once, \n",
    "                            # remove the letter from the list\n",
    "    return True\n",
    "\n",
    "# main procedure\n",
    "def question1(s, t):\n",
    "    \n",
    "    # if s is not string, return error message\n",
    "    if type(s) != str:\n",
    "        return \"Error: The first argument is not string!\"\n",
    "\n",
    "    # if t is not string, return error message\n",
    "    if type(t) != str:\n",
    "        return \"Error: The second argument is not string!\"\n",
    "    \n",
    "    # if the number of characters of s is zero or smaller than that of t, return error message\n",
    "    if len(s) == 0 or len(s) < len(t):\n",
    "        return \"Error: The string length of the first argument needs to be greater than that of the second argument!\"\n",
    "    \n",
    "    # if t is empty string, the answer should alwasy be True\n",
    "    if len(t) == 0:\n",
    "        return True\n",
    "    \n",
    "    if is_anagram(s, t):\n",
    "        return True\n",
    "    \n",
    "    return False"
   ]
  },
  {
   "cell_type": "markdown",
   "metadata": {},
   "source": [
    "### Test Case 1-1:"
   ]
  },
  {
   "cell_type": "code",
   "execution_count": 2,
   "metadata": {
    "collapsed": false
   },
   "outputs": [
    {
     "name": "stdout",
     "output_type": "stream",
     "text": [
      "True\n",
      "\n",
      "This took 0.00000000 seconds\n",
      "\n"
     ]
    }
   ],
   "source": [
    "s1 = \"udacity\"\n",
    "t1 = \"ad\"\n",
    "question1(s1, t1)"
   ]
  },
  {
   "cell_type": "code",
   "execution_count": 3,
   "metadata": {
    "collapsed": false
   },
   "outputs": [
    {
     "name": "stdout",
     "output_type": "stream",
     "text": [
      "True\n",
      "\n",
      "This took 0.00000000 seconds\n",
      "\n"
     ]
    }
   ],
   "source": [
    "t2 = \"cityuda\"\n",
    "question1(s1, t2)"
   ]
  },
  {
   "cell_type": "markdown",
   "metadata": {},
   "source": [
    "### Test Case 1-2:"
   ]
  },
  {
   "cell_type": "code",
   "execution_count": 4,
   "metadata": {
    "collapsed": false
   },
   "outputs": [
    {
     "name": "stdout",
     "output_type": "stream",
     "text": [
      "True\n",
      "\n",
      "This took 0.00000000 seconds\n",
      "\n"
     ]
    }
   ],
   "source": [
    "t3 = \"\"\n",
    "question1(s1, t3)"
   ]
  },
  {
   "cell_type": "code",
   "execution_count": 5,
   "metadata": {
    "collapsed": false
   },
   "outputs": [
    {
     "name": "stdout",
     "output_type": "stream",
     "text": [
      "Error: The second argument is not string!\n",
      "\n",
      "This took 0.00000000 seconds\n",
      "\n"
     ]
    }
   ],
   "source": [
    "t4 = None\n",
    "question1(s1, t4)"
   ]
  },
  {
   "cell_type": "markdown",
   "metadata": {},
   "source": [
    "### Test Case 1-3:"
   ]
  },
  {
   "cell_type": "code",
   "execution_count": 6,
   "metadata": {
    "collapsed": false
   },
   "outputs": [
    {
     "name": "stdout",
     "output_type": "stream",
     "text": [
      "False\n",
      "\n",
      "This took 0.00000000 seconds\n",
      "\n"
     ]
    }
   ],
   "source": [
    "start = time()\n",
    "t5 = \"uuda\"\n",
    "\n",
    "print question1(s1, t5)\n",
    "print \"\\nThis took %.8f seconds\\n\" %(time() - start)"
   ]
  },
  {
   "cell_type": "code",
   "execution_count": 7,
   "metadata": {
    "collapsed": false
   },
   "outputs": [
    {
     "name": "stdout",
     "output_type": "stream",
     "text": [
      "False\n",
      "\n",
      "This took 0.00000000 seconds\n",
      "\n"
     ]
    }
   ],
   "source": [
    "start = time()\n",
    "s2 = \"University\"\n",
    "t6 = \"universe\"\n",
    "\n",
    "print question1(s2, t6)\n",
    "print \"\\nThis took %.8f seconds\\n\" %(time() - start)"
   ]
  },
  {
   "cell_type": "code",
   "execution_count": 16,
   "metadata": {
    "collapsed": false
   },
   "outputs": [
    {
     "name": "stdout",
     "output_type": "stream",
     "text": [
      "True\n",
      "\n",
      "This took 0.12400007 seconds\n",
      "\n"
     ]
    }
   ],
   "source": [
    "start = time()\n",
    "s3 = \"udacity\"*1000\n",
    "t7 = \"ad\"*1000\n",
    "\n",
    "print question1(s3, t7)\n",
    "print \"\\nThis took %.8f seconds\\n\" %(time() - start)"
   ]
  },
  {
   "cell_type": "markdown",
   "metadata": {},
   "source": [
    "## Explanation:\n",
    "\n",
    "\n",
    "\n",
    "I have one loop that iterate each character of the input anagram and the for loop has two lines of code. The output is generated only one time. So the O notation would be O(2\\*length_of_inputs + 1)\n"
   ]
  },
  {
   "cell_type": "code",
   "execution_count": null,
   "metadata": {
    "collapsed": true
   },
   "outputs": [],
   "source": []
  },
  {
   "cell_type": "code",
   "execution_count": null,
   "metadata": {
    "collapsed": true
   },
   "outputs": [],
   "source": []
  }
 ],
 "metadata": {
  "kernelspec": {
   "display_name": "Python [Root]",
   "language": "python",
   "name": "Python [Root]"
  },
  "language_info": {
   "codemirror_mode": {
    "name": "ipython",
    "version": 2
   },
   "file_extension": ".py",
   "mimetype": "text/x-python",
   "name": "python",
   "nbconvert_exporter": "python",
   "pygments_lexer": "ipython2",
   "version": "2.7.12"
  }
 },
 "nbformat": 4,
 "nbformat_minor": 0
}
